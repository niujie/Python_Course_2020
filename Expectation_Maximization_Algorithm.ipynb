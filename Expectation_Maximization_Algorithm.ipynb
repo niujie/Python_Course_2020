{
 "cells": [
  {
   "cell_type": "markdown",
   "metadata": {},
   "source": [
    "# 最大期望算法 Expectation Maximization Algorithm"
   ]
  },
  {
   "cell_type": "markdown",
   "metadata": {},
   "source": [
    "## 代码实现"
   ]
  },
  {
   "cell_type": "markdown",
   "metadata": {},
   "source": [
    "### 生成测试数据"
   ]
  },
  {
   "cell_type": "code",
   "execution_count": null,
   "metadata": {},
   "outputs": [],
   "source": [
    "import numpy as np\n",
    "import matplotlib.pyplot as plt\n",
    "\n",
    "# random number seed, for reproduction\n",
    "np.random.seed(20200503)\n",
    "\n",
    "# randomly generate 100 boys' height data, with mean = 175, std = 10\n",
    "N = 10000\n",
    "mu = 175\n",
    "sigma = 10\n",
    "height_of_boy = mu + sigma * np.random.randn(N)\n",
    "\n",
    "# randomly generate 100 girls' height data, with mean = 160, std = 10\n",
    "mu = 160\n",
    "height_of_girl = mu + sigma * np.random.randn(N)\n",
    "\n",
    "fig, axs = plt.subplots(3, 1, constrained_layout=True, figsize=(8, 8), dpi=300)\n",
    "\n",
    "axs[0].hist(height_of_boy, bins=20, density=True)\n",
    "axs[0].set_title('Boys Histogram of Height: $\\mu$ = 175cm, $\\sigma$ = 10')\n",
    "axs[0].set_xlabel('Height')\n",
    "axs[0].set_ylabel('Probability Density')\n",
    "\n",
    "axs[1].hist(height_of_girl, bins=20, density=True)\n",
    "axs[1].set_title('Girls Histogram of Height: $\\mu$ = 160cm, $\\sigma$ = 10')\n",
    "axs[1].set_xlabel('Height')\n",
    "axs[1].set_ylabel('Probability Density')\n",
    "\n",
    "# mix the data\n",
    "mixed_height = np.asarray([height_of_boy, height_of_girl])\n",
    "mixed_height = mixed_height.reshape(2 * N, )\n",
    "\n",
    "axs[2].hist(mixed_height, color=(0,0,1), bins=40, density=True)\n",
    "axs[2].set_title('Histogram of Height')\n",
    "axs[2].set_xlabel('Height')\n",
    "axs[2].set_ylabel('Probability Density')\n",
    "\n",
    "plt.show()"
   ]
  },
  {
   "cell_type": "markdown",
   "metadata": {},
   "source": [
    "### EM 算法求解男生、女生的身高"
   ]
  },
  {
   "cell_type": "code",
   "execution_count": null,
   "metadata": {},
   "outputs": [],
   "source": [
    "import pylab as pl\n",
    "from IPython import display\n",
    "\n",
    "# output normal dist. f(x) based on the input x\n",
    "def gaussian_distribution(x, mu, std):\n",
    "    return 1.0 / np.sqrt(2*np.pi*(std**2)) * np.exp(-((x-mu)**2) / (2*std**2))\n",
    "\n",
    "\n",
    "# E step: estimate the prob. (implicit var.) of boys' samples based on the dist. pars.\n",
    "def E_step(heights, mu_b, var_b, mu_g, var_g):\n",
    "    b = gaussian_distribution(heights, mu_b, var_b)\n",
    "    g = gaussian_distribution(heights, mu_g, var_g)\n",
    "    return b / (b + g)\n",
    "\n",
    "\n",
    "# M step: recalculate the prob. dist. of boys and girls as the prob. dist. of implicit var. is known\n",
    "def M_step(heights, prob_of_boys):\n",
    "    mu_b = (heights * prob_of_boys).sum() / prob_of_boys.sum()\n",
    "    var_b = np.sqrt((prob_of_boys * (heights - mu_b)**2).sum() / prob_of_boys.sum())\n",
    "    \n",
    "    prob_of_girl = 1 - prob_of_boys\n",
    "    mu_g = (heights * prob_of_girl).sum() / prob_of_girl.sum()\n",
    "    var_g = np.sqrt((prob_of_girl * (heights - mu_g)**2).sum() / prob_of_girl.sum())\n",
    "    return (mu_b, var_b, mu_g, var_g)\n",
    "\n",
    "\n",
    "# whole proc. of EM Alg.\n",
    "# 1. init. dist. pars. randomly\n",
    "# 2. E step\n",
    "# 3. M step\n",
    "# 4. iterate the proc. until the change of pars. is small\n",
    "def EM_iteration(heights, iters = 5):\n",
    "    mu_b = 180\n",
    "    var_b = 5\n",
    "    mu_g = 150\n",
    "    var_g = 5\n",
    "    x_range = np.linspace(heights.min(), heights.max(), 100)\n",
    "    \n",
    "    fig = pl.figure(figsize=(12,8), dpi=300)\n",
    "    ax = fig.subplots()\n",
    "    for i in range(iters):\n",
    "        ax.cla()\n",
    "        ax.hist([height_of_boy, height_of_girl], bins=50, density=True, \n",
    "                color=['C0', 'C1'], label=['Data: Boys', 'Data: Girls'])\n",
    "        ax.set_title('Histogram of Height, iter = %d' % (i+1))\n",
    "        \n",
    "        ax.plot(x_range, gaussian_distribution(x_range, mu_b, var_b), color='C0',\n",
    "                label='$\\mu_b$=%.2f, $\\sigma_b$=%.2f' % (mu_b, var_b))\n",
    "        \n",
    "        ax.plot(x_range, gaussian_distribution(x_range, mu_g, var_g), color='C1',\n",
    "                label='$\\mu_g$=%.2f, $\\sigma_g$=%.2f' % (mu_g, var_g))\n",
    "        \n",
    "        ax.set_ylabel('Probability density')\n",
    "        ax.set_xlabel('Height')\n",
    "        ax.legend(loc='upper right')\n",
    "        _ = display.clear_output(wait=True)\n",
    "        _ = display.display(fig)\n",
    "    \n",
    "        prob_of_boys = E_step(heights, mu_b, var_b, mu_g, var_g)\n",
    "        mu_b, var_b, mu_g, var_g = M_step(heights, prob_of_boys)\n",
    "\n",
    "    pl.close()\n",
    "\n",
    "EM_iteration(mixed_height, 20)"
   ]
  },
  {
   "cell_type": "code",
   "execution_count": null,
   "metadata": {},
   "outputs": [],
   "source": []
  }
 ],
 "metadata": {
  "kernelspec": {
   "display_name": "Python 3",
   "language": "python",
   "name": "python3"
  },
  "language_info": {
   "codemirror_mode": {
    "name": "ipython",
    "version": 3
   },
   "file_extension": ".py",
   "mimetype": "text/x-python",
   "name": "python",
   "nbconvert_exporter": "python",
   "pygments_lexer": "ipython3",
   "version": "3.7.4"
  }
 },
 "nbformat": 4,
 "nbformat_minor": 2
}
