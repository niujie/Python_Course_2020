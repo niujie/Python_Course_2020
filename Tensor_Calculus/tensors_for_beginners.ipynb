{
 "cells": [
  {
   "cell_type": "markdown",
   "metadata": {},
   "source": [
    "# Tensor = Geometry\n",
    "\n",
    "## General Relativity\n",
    "\n",
    "Einstein's Field Equations:\n",
    "$$\n",
    "R_{\\mu v}-\\frac{1}{2}Rg_{\\mu v}+\\Lambda g_{\\mu v}=\\frac{8\\pi G}{c^4}T_{\\mu v}\n",
    "$$\n",
    "\n",
    "where $R_{\\mu v}$, $g_{\\mu v}$, and $T_{\\mu v}$ are the tensors, in which, $g_{\\mu v}$ is the most import one, called `Metric Tensor`, which measures the length and angles in the curved geometry of space time.\n",
    "\n",
    "## Definition of Tensor\n",
    "\n",
    "### 1. Tensor = multi-dimensional array of numbers (Array Definition)\n",
    "\n",
    "- Scalar (rank 0), e.g., *1*, *2*, *5*, *3/4*, $\\pi$, ...\n",
    "- Vector (rank 1)\n",
    "\n",
    "\\begin{bmatrix}\n",
    "v_1 \\\\ v_2 \\\\ \\vdots \\\\ v_n\n",
    "\\end{bmatrix}\n",
    "\n",
    "\n",
    "- Matrix (rank 2)\n",
    "\n",
    "\\begin{bmatrix}\n",
    "m_{11} & m_{12} & \\cdots & m_{1n} \\\\\n",
    "m_{21} & m_{22} & \\cdots & m_{2n} \\\\\n",
    "\\vdots & \\vdots & \\ddots & \\vdots \\\\\n",
    "m_{n1} & m_{n2} & \\cdots & m_{nn} \\\\\n",
    "\\end{bmatrix}\n",
    "\n",
    "- Rank-3 Tensor (rank 3)\n",
    "\n",
    "### 2. Tensor = an object that is <u>invariant</u> under a change of coordinates, and has <u>components</u> that change in a <u>special, predictable</u> way under a change of coordinates. (Coordiante Definition)\n",
    "\n",
    "Vectors are <u>Invariant</u>.\n",
    "Vector components are <u>not invariant</u>.\n",
    "\n",
    "### 3. Tensor = a collection of **vectors** and **covectors** combined together using the <u>tensor product</u>.\n",
    "\n",
    "<u>Extra</u>: Tensors as **partial derivatives** and **gradients** that transform with the **Jacobian Matrix**."
   ]
  },
  {
   "cell_type": "markdown",
   "metadata": {},
   "source": [
    "# Forward & Backward Transformations\n",
    "\n",
    "Old Basis: $\\{\\overrightarrow{e_1}, \\overrightarrow{e_2}\\}$\n",
    "\n",
    "New Basis: $\\{\\widetilde{\\overrightarrow{e_1}}, \\widetilde{\\overrightarrow{e_2}}\\}$\n",
    "\n",
    "$\\begin{align*}\n",
    "\\widetilde{\\overrightarrow{e_1}} &= \\quad 2\\ \\overrightarrow{e_1} + \\ 1\\ \\overrightarrow{e_2} \\\\\n",
    "\\widetilde{\\overrightarrow{e_2}} &= -\\frac{1}{2}\\ \\overrightarrow{e_1} + \\frac{1}{4}\\ \\overrightarrow{e_2}\n",
    "\\end{align*}$\n",
    "\n",
    "$\\begin{align*}\n",
    "\\overrightarrow{e_1} &= \\frac{1}{4}\\ \\widetilde{\\overrightarrow{e_1}} + (-1)\\ \\widetilde{\\overrightarrow{e_2}} \\\\\n",
    "\\overrightarrow{e_2} &= \\frac{1}{2}\\ \\widetilde{\\overrightarrow{e_1}} + \\quad 2\\ \\widetilde{\\overrightarrow{e_2}}\n",
    "\\end{align*}$\n",
    "\n",
    "![vector basis](./media/images/illustration/Basis_ManimCE_v0.12.0.png)"
   ]
  },
  {
   "cell_type": "markdown",
   "metadata": {},
   "source": [
    "So the forward and backward transformation matrices is:\n",
    "\n",
    "$$\n",
    "F = \\begin{bmatrix}\n",
    "2 & -\\frac{1}{2} \\\\\n",
    "1 & \\frac{1}{4}\n",
    "\\end{bmatrix}\n",
    "$$\n",
    "\n",
    "$$\n",
    "B = \\begin{bmatrix}\n",
    "\\frac{1}{4} & \\frac{1}{2} \\\\\n",
    "-1 & 2\n",
    "\\end{bmatrix}\n",
    "$$\n",
    "\n",
    "$$\n",
    "\\begin{align*}\n",
    "FB &= \\begin{bmatrix}\n",
    "2 & -\\frac{1}{2} \\\\\n",
    "1 & \\frac{1}{4}\n",
    "\\end{bmatrix}\n",
    "\\begin{bmatrix}\n",
    "\\frac{1}{4} & \\frac{1}{2} \\\\\n",
    "-1 & 2\n",
    "\\end{bmatrix} \\\\\n",
    "&= \\begin{bmatrix}\n",
    "1 & 0 \\\\\n",
    "0 & 1\n",
    "\\end{bmatrix}\n",
    "\\end{align*}\n",
    "$$"
   ]
  },
  {
   "cell_type": "code",
   "execution_count": null,
   "metadata": {},
   "outputs": [],
   "source": [
    "import numpy as np\n",
    "\n",
    "F = np.array([[2, -0.5], [1, 0.25]])\n",
    "print(\"The backward transformation matrix is the inverse of the forward transformation matrix:\")\n",
    "print(\"F = \")\n",
    "print(F)\n",
    "print(\"\\nF^{-1} = \")\n",
    "print(np.linalg.inv(F))\n",
    "\n",
    "B = np.array([[0.25, 0.5], [-1, 2]])\n",
    "\n",
    "print(\"\\nF . B = \")\n",
    "print(F.dot(B))"
   ]
  },
  {
   "cell_type": "markdown",
   "metadata": {},
   "source": [
    "$\\vec{v}\\quad=1\\ \\overrightarrow{e_1}\\ +\\ 1.5\\ \\overrightarrow{e_2}$\n",
    "\n",
    "$\\vec{v}\\quad=1\\ \\widetilde{\\overrightarrow{e_1}}\\ +\\quad 2\\ \\widetilde{\\overrightarrow{e_2}}$\n",
    "\n",
    "![vector](./media/images/illustration/vector.png)\n",
    "\n",
    "Then $\\vec{v}$ can be written as:\n",
    "$\\begin{bmatrix}\n",
    "1 \\\\ 1.5\n",
    "\\end{bmatrix}_{\\overrightarrow{e_i}}$ or $\\begin{bmatrix}\n",
    "1 \\\\ 2\n",
    "\\end{bmatrix}_{\\widetilde{\\overrightarrow{e_i}}}$."
   ]
  },
  {
   "cell_type": "code",
   "execution_count": null,
   "metadata": {},
   "outputs": [],
   "source": [
    "v_e = np.array([1, 1.5])\n",
    "\n",
    "print(\"Forward transformation matrix cannot bring the vector from old to new:\")\n",
    "print(F.dot(v_e))\n",
    "print(\"but the backward one can:\")\n",
    "print(B.dot(v_e))\n",
    "\n",
    "v_te = np.array([1, 2])\n",
    "\n",
    "print(\"Backward transformation matrix cannot bring the new vector to old:\")\n",
    "print(B.dot(v_te))\n",
    "print(\"but the forward one can:\")\n",
    "print(F.dot(v_te))"
   ]
  },
  {
   "cell_type": "markdown",
   "metadata": {},
   "source": [
    "Consider a new vector:\n",
    "\n",
    "![new vector](./media/images/illustration/new_vector.png)\n",
    "\n",
    "$$\n",
    "\\begin{align*}\n",
    "\\vec{v} &= \\ 1\\ \\overrightarrow{e_1}\\ + \\ 2\\ \\overrightarrow{e_2} \\\\\n",
    "&= \\frac{5}{4}\\ \\widetilde{\\overrightarrow{e_1}}\\ +\\ 3\\ \\widetilde{\\overrightarrow{e_2}}\n",
    "\\end{align*}\n",
    "$$"
   ]
  },
  {
   "cell_type": "code",
   "execution_count": null,
   "metadata": {},
   "outputs": [],
   "source": [
    "v = np.array([1, 2])\n",
    "\n",
    "print(\"The matrix in old basis:\")\n",
    "print(v)\n",
    "print(\"\\nThe matrix in new basis:\")\n",
    "print(B.dot(v))\n",
    "print(\"using backward transformation matrix to convert.\")"
   ]
  },
  {
   "cell_type": "code",
   "execution_count": null,
   "metadata": {},
   "outputs": [],
   "source": [
    "e1 = np.array([1, 0])\n",
    "e2 = np.array([0, 1])\n",
    "\n",
    "print(\"The length of v in old basis: \", np.sqrt(\n",
    "    (v[0]*e1 + v[1]*e2).dot(v[0]*e1 + v[1]*e2)))\n",
    "print(np.sqrt(v[0]**2*(e1.dot(e1)) + 2*v[0] * \n",
    "    v[1]*(e1.dot(e2)) + v[1]**2*(e2.dot(e2))))\n",
    "\n",
    "te1 = F.dot(e1)\n",
    "te2 = F.dot(e2)\n",
    "tv = B.dot(v)\n",
    "\n",
    "print(\"Vector in new basis:\")\n",
    "print(tv)\n",
    "\n",
    "print(\"The length of v in new basis:\", np.sqrt(\n",
    "    (tv[0]*te1 + tv[1]*te2).dot(tv[0]*te1 + tv[1]*te2)))\n",
    "print(np.sqrt(tv[0]**2*(te1.dot(te1)) + 2*tv[0] *\n",
    "            tv[1]*(te1.dot(te2)) + tv[1]**2*(te2.dot(te2))))"
   ]
  },
  {
   "cell_type": "markdown",
   "metadata": {},
   "source": [
    "The metric tensors for the old and new basis are:\n",
    "\n",
    "$$\n",
    "g_{\\overrightarrow{e_i}}=\n",
    "\\begin{bmatrix}\n",
    "\\overrightarrow{e_1}\\cdot\\overrightarrow{e_1} & \\overrightarrow{e_1}\\cdot\\overrightarrow{e_2} \\\\\n",
    "\\overrightarrow{e_2}\\cdot\\overrightarrow{e_1} & \\overrightarrow{e_2}\\cdot\\overrightarrow{e_2} \n",
    "\\end{bmatrix}_{\\overrightarrow{e_i}}=\n",
    "\\begin{bmatrix}\n",
    "1 & 0 \\\\ 0 & 1\n",
    "\\end{bmatrix}_{\\overrightarrow{e_i}}\n",
    "$$\n",
    "\n",
    "and\n",
    "\n",
    "$$\n",
    "g_{\\widetilde{\\overrightarrow{e_i}}}=\n",
    "\\begin{bmatrix}\n",
    "\\widetilde{\\overrightarrow{e_1}}\\cdot\\widetilde{\\overrightarrow{e_1}} & \\widetilde{\\overrightarrow{e_1}}\\cdot\\widetilde{\\overrightarrow{e_2}} \\\\\n",
    "\\widetilde{\\overrightarrow{e_2}}\\cdot\\widetilde{\\overrightarrow{e_1}} & \\widetilde{\\overrightarrow{e_2}}\\cdot\\widetilde{\\overrightarrow{e_2}} \n",
    "\\end{bmatrix}_{\\widetilde{\\overrightarrow{e_i}}}=\n",
    "\\begin{bmatrix}\n",
    "5 & -\\frac{3}{4} \\\\ -\\frac{3}{4} & \\frac{5}{16}\n",
    "\\end{bmatrix}_{\\widetilde{\\overrightarrow{e_i}}}\n",
    "$$"
   ]
  },
  {
   "cell_type": "code",
   "execution_count": null,
   "metadata": {},
   "outputs": [],
   "source": [
    "g = np.array([[e1.dot(e1), e1.dot(e2)], [e2.dot(e1), e2.dot(e2)]])\n",
    "print(g)\n",
    "\n",
    "tg = np.array([[te1.dot(te1), te1.dot(te2)], [te2.dot(te1), te2.dot(te2)]])\n",
    "print(tg)"
   ]
  },
  {
   "cell_type": "code",
   "execution_count": null,
   "metadata": {},
   "outputs": [],
   "source": [
    "a = np.random.rand(1, 3)\n",
    "b = np.random.rand(1, 3)\n",
    "c = np.random.rand(1, 3)\n",
    "\n",
    "print(np.cross(a, np.cross(b, c)))\n",
    "print(a.dot(c.transpose()) * b - a.dot(b.transpose()) * c)"
   ]
  }
 ],
 "metadata": {
  "interpreter": {
   "hash": "b9555527d199b1e05c031e038893aa6e7f07a29aac296f0418d3224b6c4228e9"
  },
  "kernelspec": {
   "display_name": "Python 3.7.9 64-bit ('manim_venv': venv)",
   "language": "python",
   "name": "python3"
  },
  "language_info": {
   "codemirror_mode": {
    "name": "ipython",
    "version": 3
   },
   "file_extension": ".py",
   "mimetype": "text/x-python",
   "name": "python",
   "nbconvert_exporter": "python",
   "pygments_lexer": "ipython3",
   "version": "3.8.9"
  },
  "orig_nbformat": 4
 },
 "nbformat": 4,
 "nbformat_minor": 2
}
