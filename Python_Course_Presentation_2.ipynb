{
 "cells": [
  {
   "cell_type": "markdown",
   "metadata": {},
   "source": [
    "# The Basics of Applied Numerical Methods Using Python - 2"
   ]
  },
  {
   "cell_type": "markdown",
   "metadata": {},
   "source": [
    "## Practice, practice, and more practices ... "
   ]
  },
  {
   "cell_type": "markdown",
   "metadata": {},
   "source": [
    "**Fibonacci sequence**\n",
    "- Iterative\n",
    "- Recursion (function call) think about the computation efficiency\n",
    "- Can we use vectorization?"
   ]
  },
  {
   "cell_type": "code",
   "execution_count": 5,
   "metadata": {},
   "outputs": [
    {
     "output_type": "execute_result",
     "data": {
      "text/plain": [
       "[1,\n",
       " 1,\n",
       " 2,\n",
       " 3,\n",
       " 5,\n",
       " 8,\n",
       " 13,\n",
       " 21,\n",
       " 34,\n",
       " 55,\n",
       " 89,\n",
       " 144,\n",
       " 233,\n",
       " 377,\n",
       " 610,\n",
       " 987,\n",
       " 1597,\n",
       " 2584,\n",
       " 4181,\n",
       " 6765]"
      ]
     },
     "metadata": {},
     "execution_count": 5
    }
   ],
   "source": [
    "# Iterative\n",
    "def fibonacci_iter(N=2):\n",
    "    if N <= 1:\n",
    "        return 1\n",
    "    fib = [1, 1]\n",
    "    for i in range(2, N):\n",
    "        fib.append(fib[i-1] + fib[i-2])\n",
    "    return fib\n",
    "\n",
    "fibonacci_iter(20)"
   ]
  },
  {
   "cell_type": "code",
   "execution_count": 8,
   "metadata": {},
   "outputs": [
    {
     "output_type": "stream",
     "name": "stdout",
     "text": [
      "1 1\n2 1\n3 2\n4 3\n5 5\n6 8\n7 13\n8 21\n9 34\n10 55\n11 89\n12 144\n13 233\n14 377\n15 610\n16 987\n17 1597\n18 2584\n19 4181\n20 6765\n"
     ]
    }
   ],
   "source": [
    "# Recursion\n",
    "def fibonacci_rec(n):\n",
    "    if n < 3:  # n==1 | n==2\n",
    "        return 1\n",
    "    else:\n",
    "        return fibonacci_rec(n-1) + fibonacci_rec(n-2)\n",
    "\n",
    "for i in range(1, 21):\n",
    "    print(i, fibonacci_rec(i))"
   ]
  },
  {
   "cell_type": "code",
   "execution_count": 9,
   "metadata": {},
   "outputs": [
    {
     "output_type": "stream",
     "name": "stdout",
     "text": [
      "3.38 µs ± 119 ns per loop (mean ± std. dev. of 7 runs, 100000 loops each)\n"
     ]
    }
   ],
   "source": [
    "%timeit fibonacci_iter(20)"
   ]
  },
  {
   "cell_type": "code",
   "execution_count": 10,
   "metadata": {},
   "outputs": [
    {
     "output_type": "stream",
     "name": "stdout",
     "text": [
      "1.5 ms ± 11.1 µs per loop (mean ± std. dev. of 7 runs, 1000 loops each)\n"
     ]
    }
   ],
   "source": [
    "%timeit fibonacci_rec(20)"
   ]
  },
  {
   "cell_type": "code",
   "execution_count": 11,
   "metadata": {},
   "outputs": [],
   "source": [
    "def fib():\n",
    "    x1 = 0\n",
    "    x2 = 1\n",
    "    def get_next_number():\n",
    "        nonlocal x1, x2\n",
    "        x3 = x1 + x2\n",
    "        x1, x2 = x2, x3\n",
    "        return x3\n",
    "    return get_next_number"
   ]
  },
  {
   "cell_type": "code",
   "execution_count": 22,
   "metadata": {},
   "outputs": [],
   "source": [
    "def fib():\n",
    "    x0 = 0\n",
    "    x1 = 1\n",
    "    def get_next_number():\n",
    "        nonlocal x0, x1\n",
    "        x0, x1 = x1, x0 + x1\n",
    "        return x1\n",
    "    return get_next_number"
   ]
  },
  {
   "cell_type": "code",
   "execution_count": 24,
   "metadata": {},
   "outputs": [
    {
     "output_type": "stream",
     "name": "stdout",
     "text": [
      "1 1\n2 2\n3 3\n4 5\n5 8\n6 13\n7 21\n8 34\n9 55\n10 89\n11 144\n12 233\n13 377\n14 610\n15 987\n16 1597\n17 2584\n18 4181\n19 6765\n"
     ]
    }
   ],
   "source": [
    "fibonacci = fib()\n",
    "for i in range(1, 20):\n",
    "    num = fibonacci()\n",
    "    print(i, num)"
   ]
  },
  {
   "cell_type": "code",
   "execution_count": 25,
   "metadata": {},
   "outputs": [],
   "source": [
    "def fib_closure(n):\n",
    "    f = fib()\n",
    "    for i in range(2, n+1):\n",
    "        num = f()\n",
    "    return num"
   ]
  },
  {
   "cell_type": "code",
   "execution_count": 26,
   "metadata": {},
   "outputs": [
    {
     "output_type": "stream",
     "name": "stdout",
     "text": [
      "3 µs ± 123 ns per loop (mean ± std. dev. of 7 runs, 100000 loops each)\n"
     ]
    }
   ],
   "source": [
    "%timeit fib_closure(20)"
   ]
  },
  {
   "cell_type": "markdown",
   "metadata": {},
   "source": [
    "**Formula**\n",
    "\n",
    "$a_n=\\frac{1}{\\sqrt{5}}\\bigg[\\bigg(\\frac{1+\\sqrt{5}}{2}\\bigg)^n-\\bigg(\\frac{1-\\sqrt{5}}{2}\\bigg)^n\\bigg]$"
   ]
  },
  {
   "cell_type": "code",
   "execution_count": 4,
   "metadata": {},
   "outputs": [
    {
     "output_type": "execute_result",
     "data": {
      "text/plain": [
       "(1.0, 1.0, 2.0, 55.000000000000014, 6765.000000000005)"
      ]
     },
     "metadata": {},
     "execution_count": 4
    }
   ],
   "source": [
    "import numpy as np\n",
    "\n",
    "sqrt_5 = np.sqrt(5)\n",
    "fib = lambda n: 1/sqrt_5 * (((1+np.sqrt(5))/2)**n - ((1-np.sqrt(5))/2)**n)\n",
    "\n",
    "fib(1), fib(2), fib(3), fib(10), fib(20)"
   ]
  },
  {
   "cell_type": "markdown",
   "metadata": {},
   "source": [
    "**Matrix form**\n",
    "\n",
    "$$\n",
    "\\begin{pmatrix}\n",
    "F_{k+2}\\\\\n",
    "F_{k+1}\n",
    "\\end{pmatrix}\n",
    "=\\begin{pmatrix}\n",
    "1 & 1\\\\\n",
    "1 & 0\n",
    "\\end{pmatrix}\n",
    "\\begin{pmatrix}\n",
    "F_{k+1}\\\\\n",
    "F_{k}\n",
    "\\end{pmatrix}\n",
    "$$"
   ]
  },
  {
   "cell_type": "markdown",
   "metadata": {},
   "source": [
    "**Fibonacci spiral (golden spiral)**\n",
    "![golden spiral](./images/fibonacci_spiral.png)"
   ]
  },
  {
   "cell_type": "code",
   "execution_count": 9,
   "metadata": {},
   "outputs": [
    {
     "output_type": "stream",
     "name": "stdout",
     "text": [
      "18\n1.6180338134001255\n"
     ]
    }
   ],
   "source": [
    "import numpy as np\n",
    "\n",
    "sqrt_5 = np.sqrt(5)\n",
    "fib = lambda n: 1/sqrt_5 * (((1+np.sqrt(5))/2)**n - ((1-np.sqrt(5))/2)**n)\n",
    "fibs = [fib(1), fib(2)]\n",
    "\n",
    "err = 1e6;\n",
    "n = 2;\n",
    "while abs(err) > 1e-6:\n",
    "    fibs.append(fib(n+1))\n",
    "    err = fibs[n] / fibs[n-1] - fibs[n-1] / fibs[n-2]\n",
    "    n = n + 1\n",
    "\n",
    "print(n)\n",
    "print(fibs[n-1] / fibs[n-2])"
   ]
  },
  {
   "cell_type": "markdown",
   "metadata": {},
   "source": [
    "Recursion is very useful and powerful!\n",
    "- Quick Sort algorithm (top 10 algorithm in the 20th century): divide and conquer, but implement in recursion\n",
    "- Calculate 1 + 2 + ... + N using recursion"
   ]
  },
  {
   "cell_type": "code",
   "execution_count": null,
   "metadata": {},
   "outputs": [],
   "source": [
    "# iteration (loop)\n",
    "N = 10\n",
    "loop_sum = 0\n",
    "for x in range(1, N+1):\n",
    "    loop_sum += x\n",
    "    \n",
    "print('sum =', loop_sum)"
   ]
  },
  {
   "cell_type": "code",
   "execution_count": null,
   "metadata": {},
   "outputs": [],
   "source": [
    "# calling builtin function\n",
    "import numpy as np\n",
    "\n",
    "arr = np.arange(1, 11)\n",
    "np.sum(arr)"
   ]
  },
  {
   "cell_type": "code",
   "execution_count": null,
   "metadata": {},
   "outputs": [],
   "source": [
    "# tail recursion\n",
    "def sum_rec(n):\n",
    "    if n == 1:\n",
    "        return n\n",
    "    else:\n",
    "        return n + sum_rec(n-1)\n",
    "\n",
    "sum_rec(10)"
   ]
  },
  {
   "cell_type": "code",
   "execution_count": null,
   "metadata": {},
   "outputs": [],
   "source": [
    "# tail recursion for array\n",
    "def sum_rec_arr(arr):\n",
    "    if len(arr) == 1:\n",
    "        return arr[0]\n",
    "    else:\n",
    "        return arr[-1] + sum_rec_arr(arr[:-1])\n",
    "\n",
    "arr = np.arange(1, 11)\n",
    "sum_rec_arr(arr)"
   ]
  },
  {
   "cell_type": "markdown",
   "metadata": {},
   "source": [
    "Write a sign function using if, else"
   ]
  },
  {
   "cell_type": "code",
   "execution_count": null,
   "metadata": {},
   "outputs": [],
   "source": [
    "np.sign(0), np.sign(-100), np.sign(100)"
   ]
  },
  {
   "cell_type": "code",
   "execution_count": null,
   "metadata": {},
   "outputs": [],
   "source": [
    "def my_sign(x):\n",
    "    '''simple sign function'''\n",
    "    if x < 0:\n",
    "        return -1\n",
    "    elif x == 0:\n",
    "        return 0\n",
    "    else:\n",
    "        return 1\n",
    "\n",
    "my_sign(0), my_sign(-100), my_sign(100)"
   ]
  },
  {
   "cell_type": "markdown",
   "metadata": {},
   "source": [
    "Reverse a string\n",
    "- for loop\n",
    "- while loop\n",
    "- array manipulation"
   ]
  },
  {
   "cell_type": "code",
   "execution_count": null,
   "metadata": {},
   "outputs": [],
   "source": [
    "# reverse a string using for loop\n",
    "str = 'abcdef'\n",
    "out_str = []\n",
    "for i in range(len(str)-1, -1, -1):\n",
    "    out_str.append(str[i])\n",
    "\n",
    "# convert list to string\n",
    "''.join(out_str)"
   ]
  },
  {
   "cell_type": "code",
   "execution_count": null,
   "metadata": {},
   "outputs": [],
   "source": [
    "# reverse a string using while loop\n",
    "out_str = []\n",
    "N = len(str)\n",
    "i = 0\n",
    "while i < N:\n",
    "    i += 1\n",
    "    out_str.append(str[N - i])\n",
    "\n",
    "''.join(out_str)"
   ]
  },
  {
   "cell_type": "code",
   "execution_count": null,
   "metadata": {},
   "outputs": [],
   "source": [
    "# reverse a string using array manipulation\n",
    "str[-1::-1], str[::-1]"
   ]
  },
  {
   "cell_type": "markdown",
   "metadata": {},
   "source": [
    "**Multipliers of 3 and 5**\n",
    "\n",
    "If we list all the natural numbers below 10 that are multiplier of 3 or 5, we got 3, 5, 6, and 9. The sum of these numbers is 23. Find the sum of all the mutipliers of 3 or 5 below 1000."
   ]
  },
  {
   "cell_type": "code",
   "execution_count": null,
   "metadata": {},
   "outputs": [],
   "source": [
    "7 % 3"
   ]
  },
  {
   "cell_type": "code",
   "execution_count": null,
   "metadata": {},
   "outputs": [],
   "source": [
    "N = 1000;\n",
    "s = 0;\n",
    "for i in range(1, N):\n",
    "    if 0 == i % 3 or 0 == i % 5:\n",
    "        s += i\n",
    "\n",
    "s"
   ]
  },
  {
   "cell_type": "markdown",
   "metadata": {},
   "source": [
    "Plot Figs. 1.5 and 1.6 on *Applied Numerical Methods Using MATLAB* (P11) using Python"
   ]
  },
  {
   "cell_type": "code",
   "execution_count": null,
   "metadata": {},
   "outputs": [],
   "source": [
    "import numpy as np\n",
    "from mpl_toolkits.mplot3d import Axes3D\n",
    "import matplotlib.pyplot as plt\n",
    "\n",
    "t = np.arange(0, 6*np.pi, np.pi/50)\n",
    "expt = np.exp(-0.1 * t)\n",
    "xt = expt * np.cos(t)\n",
    "yt = expt * np.sin(t)\n",
    "\n",
    "# dividing the plot into 2 x 2 sections\n",
    "fig = plt.figure(figsize=(12,8), dpi=80)\n",
    "ax = fig.add_subplot(221, projection='3d')\n",
    "ax.plot(xt, yt, t)\n",
    "ax.grid()\n",
    "ax = fig.add_subplot(222, projection='3d')\n",
    "ax.view_init(elev=90, azim=-90)\n",
    "ax.plot(xt, yt, t)\n",
    "ax.grid()\n",
    "ax = fig.add_subplot(223, projection='3d')\n",
    "ax.view_init(elev=10, azim=-60)\n",
    "ax.plot(t, xt, yt)\n",
    "ax.grid()\n",
    "ax = fig.add_subplot(224, projection='3d')\n",
    "ax.view_init(elev=0, azim=-90)\n",
    "ax.plot(t, yt, xt)\n",
    "ax.grid()\n",
    "\n",
    "x = np.arange(-2, 2, .1)\n",
    "y = np.arange(-2, 2, .1)\n",
    "X, Y = np.meshgrid(x, y)\n",
    "Z = X**2 + Y**2\n",
    "fig = plt.figure(figsize=(12,8), dpi=80)\n",
    "ax = fig.add_subplot(221, projection='3d')\n",
    "ax.plot_wireframe(X, Y, Z)\n",
    "ax.grid()\n",
    "ax = fig.add_subplot(222, projection='3d')\n",
    "ax.view_init(elev=20, azim=0)\n",
    "ax.plot_wireframe(X, Y, Z)\n",
    "ax.grid()\n",
    "ax = fig.add_subplot(223)\n",
    "ax.contour(X, Y, Z)\n",
    "ax = fig.add_subplot(224)\n",
    "ax.contour(X, Y, Z, [0.5, 2, 4.5])"
   ]
  },
  {
   "cell_type": "markdown",
   "metadata": {},
   "source": [
    "**Vectorization vs. loop iteration**"
   ]
  },
  {
   "cell_type": "code",
   "execution_count": null,
   "metadata": {},
   "outputs": [],
   "source": [
    "import numpy as np\n",
    "import time\n",
    "\n",
    "N = 1000\n",
    "th = np.linspace(0, np.pi,  N)\n",
    "start = time.time()\n",
    "ss = np.sin(th[0])\n",
    "for i in range(1, N):\n",
    "    ss += np.sin(th[i])\n",
    "\n",
    "print('result =', ss)\n",
    "print('time cost for loop:', time.time()-start)\n",
    "\n",
    "start = time.time()\n",
    "ss = np.sum(np.sin(th))\n",
    "print('result =', ss)\n",
    "print('time cost for vectorization:', time.time()-start)"
   ]
  },
  {
   "cell_type": "markdown",
   "metadata": {},
   "source": [
    "**Estimate PI using Monte Carlo Method**\n",
    "- Loop\n",
    "- Vectorization\n",
    "- Visualization"
   ]
  },
  {
   "cell_type": "code",
   "execution_count": null,
   "metadata": {},
   "outputs": [],
   "source": [
    "import numpy as np\n",
    "import pylab as pl\n",
    "from IPython import display\n",
    "\n",
    "# plot the circle\n",
    "x = np.arange(0, 2*np.pi, 0.01)\n",
    "\n",
    "pl.figure(figsize=(8, 5), dpi=120)\n",
    "pl.plot(np.cos(x), np.sin(x))\n",
    "pl.grid()\n",
    "x = np.arange(-1, 1, 0.01)\n",
    "pl.plot(x, np.zeros(len(x)))\n",
    "pl.plot(np.zeros(len(x)), x)\n",
    "pl.axis('equal')\n",
    "pl.axis('off')\n",
    "\n",
    "# vectorization\n",
    "N = 100000\n",
    "x = np.random.rand(N)\n",
    "y = np.random.rand(N)\n",
    "d = np.sqrt(x**2 + y**2)\n",
    "print(sum(d <= 1) / N * 4.0)\n",
    "\n",
    "'''\n",
    "# loop\n",
    "Sc = 0\n",
    "for i in range(N):\n",
    "    x = np.random.rand(1)\n",
    "    y = np.random.rand(1)\n",
    "    pl.plot(x, y, '.')\n",
    "    pl.title('N = {}'.format(i))\n",
    "    _ = display.clear_output(wait=True)\n",
    "    _ = display.display(pl.gcf())\n",
    "    d = np.sqrt(x**2 + y**2)\n",
    "    if d <= 1:\n",
    "        Sc += 1\n",
    "\n",
    "pl.close()\n",
    "Sc / N * 4.0\n",
    "'''"
   ]
  },
  {
   "cell_type": "markdown",
   "metadata": {},
   "source": [
    "**Homework**\n",
    "1. Write a function to compute the matrix multiplication using the following formula:\n",
    "\n",
    "$$\n",
    "C\\big(m,n\\big)=\\sum_{k=1}^{K}A\\big(m,k\\big)B\\big(k,n\\big)\n",
    "$$\n",
    "\n",
    "Compare the speed of your function with NumPy `dot` function or MATLAB intrinsic `*` operator when the size of the matrix increases from 10 to ? (try to figure out the size limit of the matrix, or say, the memory limit of Python or MATLAB). Think about the step size used for increasing the matrices. Plot the results as computation cost vs. the size of the matrices.\n",
    "\n",
    "2. Problem 1.16 on *Applied Numerical Methods Using MATLAB*\n",
    " - Make a routine (function) of **randu(N, a, b)**, which uses the Numpy or MATLAB function `rand()` to generate an *N*-dimensional random vector having the uniform distribution over $[a, b]$ and depicts the graph for the distribution of the elements of the generated vector in the form of histogram divided into 20 sections. Then, see what you get by typing the following statement into the MATLAB command window or Python REPL.\n",
    "  `>> randu(1000, -2, 2)`\n",
    " - What is the height of the histogram on average?\n",
    "\n",
    "3. Problem 1.20 on *Applied Numerical Methods Using MATLAB*\n",
    " -  Avoiding Large Errors / Overflow / Underflow"
   ]
  },
  {
   "cell_type": "code",
   "execution_count": null,
   "metadata": {},
   "outputs": [],
   "source": []
  }
 ],
 "metadata": {
  "kernelspec": {
   "name": "python385jvsc74a57bd0924680c4d72d4d7bfb5678f4d451f13a1e2c8d5e5ffc8b8797d93512f63fe605",
   "display_name": "Python 3.8.5 64-bit ('base': conda)"
  },
  "language_info": {
   "codemirror_mode": {
    "name": "ipython",
    "version": 3
   },
   "file_extension": ".py",
   "mimetype": "text/x-python",
   "name": "python",
   "nbconvert_exporter": "python",
   "pygments_lexer": "ipython3",
   "version": "3.8.5"
  }
 },
 "nbformat": 4,
 "nbformat_minor": 2
}