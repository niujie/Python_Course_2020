{
 "cells": [
  {
   "cell_type": "markdown",
   "metadata": {},
   "source": [
    "# The Basics of Applied Numerical Methods Using Python "
   ]
  },
  {
   "cell_type": "markdown",
   "metadata": {},
   "source": [
    "## Practice, practice, and more practices ... "
   ]
  },
  {
   "cell_type": "markdown",
   "metadata": {},
   "source": [
    "**Fibonacci sequence**\n",
    "- Iterative\n",
    "- Recursion (function call) think about the computation efficiency\n",
    "- Can we use vectorization?"
   ]
  },
  {
   "cell_type": "code",
   "execution_count": null,
   "metadata": {},
   "outputs": [],
   "source": [
    "# Iterative\n",
    "fib = [1, 1]\n",
    "N = 20\n",
    "for i in range(2, N):\n",
    "    fib.append(fib[i-1] + fib[i-2])\n",
    "\n",
    "print(fib)"
   ]
  },
  {
   "cell_type": "code",
   "execution_count": null,
   "metadata": {},
   "outputs": [],
   "source": [
    "# Recursion\n",
    "def fibonacci_rec(n):\n",
    "    if n < 3:  # n==1 | n==2\n",
    "        return 1\n",
    "    else:\n",
    "        return fibonacci_rec(n-1) + fibonacci_rec(n-2)\n",
    "\n",
    "for i in range(1, N+1):\n",
    "    print(i, fibonacci_rec(i))"
   ]
  },
  {
   "cell_type": "markdown",
   "metadata": {},
   "source": [
    "**Formula**\n",
    "\n",
    "$a_n=\\frac{1}{\\sqrt{5}}\\bigg[\\bigg(\\frac{1+\\sqrt{5}}{2}\\bigg)^n-\\bigg(\\frac{1-\\sqrt{5}}{2}\\bigg)^n\\bigg]$"
   ]
  },
  {
   "cell_type": "code",
   "execution_count": null,
   "metadata": {},
   "outputs": [],
   "source": [
    "import numpy as np\n",
    "\n",
    "sqrt_5 = np.sqrt(5)\n",
    "fib = lambda n: 1/sqrt_5 * (((1+np.sqrt(5))/2)**n - ((1-np.sqrt(5))/2)**n)\n",
    "\n",
    "fib(1), fib(2), fib(3), fib(10), fib(20)"
   ]
  },
  {
   "cell_type": "markdown",
   "metadata": {},
   "source": [
    "**Matrix form**\n",
    "\n",
    "$$\n",
    "\\begin{pmatrix}\n",
    "F_{k+2}\\\\\n",
    "F_{k+1}\n",
    "\\end{pmatrix}\n",
    "=\\begin{pmatrix}\n",
    "1 & 1\\\\\n",
    "1 & 0\n",
    "\\end{pmatrix}\n",
    "\\begin{pmatrix}\n",
    "F_{k+1}\\\\\n",
    "F_{k}\n",
    "\\end{pmatrix}\n",
    "$$"
   ]
  },
  {
   "cell_type": "markdown",
   "metadata": {},
   "source": [
    "**Fibonacci spiral (golden spiral)**\n",
    "![golden spiral](./images/fibonacci_spiral.png)"
   ]
  },
  {
   "cell_type": "markdown",
   "metadata": {},
   "source": [
    "Recursion is very useful and powerful!\n",
    "- Quick Sort algorithm (top 10 algorithm in the 20th century): divide and conquer, but implement in recursion\n",
    "- Calculate 1 + 2 + ... + N using recursion"
   ]
  },
  {
   "cell_type": "code",
   "execution_count": null,
   "metadata": {},
   "outputs": [],
   "source": [
    "# iteration (loop)\n",
    "N = 10\n",
    "loop_sum = 0\n",
    "for x in range(1, N+1):\n",
    "    loop_sum += x\n",
    "    \n",
    "print('sum =', loop_sum)"
   ]
  },
  {
   "cell_type": "code",
   "execution_count": null,
   "metadata": {},
   "outputs": [],
   "source": [
    "# calling builtin function\n",
    "import numpy as np\n",
    "\n",
    "arr = np.arange(1, 11)\n",
    "np.sum(arr)"
   ]
  },
  {
   "cell_type": "code",
   "execution_count": null,
   "metadata": {},
   "outputs": [],
   "source": [
    "# tail recursion\n",
    "def sum_rec(n):\n",
    "    if n == 1:\n",
    "        return n\n",
    "    else:\n",
    "        return n + sum_rec(n-1)\n",
    "\n",
    "sum_rec(10)"
   ]
  },
  {
   "cell_type": "code",
   "execution_count": null,
   "metadata": {},
   "outputs": [],
   "source": [
    "# tail recursion for array\n",
    "def sum_rec_arr(arr):\n",
    "    if len(arr) == 1:\n",
    "        return arr[0]\n",
    "    else:\n",
    "        return arr[-1] + sum_rec_arr(arr[:-1])\n",
    "\n",
    "arr = np.arange(1, 11)\n",
    "sum_rec_arr(arr)"
   ]
  },
  {
   "cell_type": "markdown",
   "metadata": {},
   "source": [
    "Write a sign function using if, else"
   ]
  },
  {
   "cell_type": "code",
   "execution_count": null,
   "metadata": {},
   "outputs": [],
   "source": [
    "np.sign(0), np.sign(-100), np.sign(100)"
   ]
  },
  {
   "cell_type": "code",
   "execution_count": null,
   "metadata": {},
   "outputs": [],
   "source": [
    "def my_sign(x):\n",
    "    '''simple sign function'''\n",
    "    if x < 0:\n",
    "        return -1\n",
    "    elif x == 0:\n",
    "        return 0\n",
    "    else:\n",
    "        return 1\n",
    "\n",
    "my_sign(0), my_sign(-100), my_sign(100)"
   ]
  },
  {
   "cell_type": "markdown",
   "metadata": {},
   "source": [
    "Reverse a string\n",
    "- for loop\n",
    "- while loop\n",
    "- array manipulation"
   ]
  },
  {
   "cell_type": "code",
   "execution_count": null,
   "metadata": {},
   "outputs": [],
   "source": [
    "# reverse a string using for loop\n",
    "str = 'abcdef'\n",
    "out_str = []\n",
    "for i in range(len(str)-1, -1, -1):\n",
    "    out_str.append(str[i])\n",
    "\n",
    "# convert list to string\n",
    "''.join(out_str)"
   ]
  },
  {
   "cell_type": "code",
   "execution_count": null,
   "metadata": {},
   "outputs": [],
   "source": [
    "# reverse a string using while loop\n",
    "out_str = []\n",
    "N = len(str)\n",
    "i = 0\n",
    "while i < N:\n",
    "    i += 1\n",
    "    out_str.append(str[N - i])\n",
    "\n",
    "''.join(out_str)"
   ]
  },
  {
   "cell_type": "code",
   "execution_count": null,
   "metadata": {},
   "outputs": [],
   "source": [
    "# reverse a string using array manipulation\n",
    "str[-1::-1], str[::-1]"
   ]
  },
  {
   "cell_type": "markdown",
   "metadata": {},
   "source": [
    "**Multipliers of 3 and 5**\n",
    "\n",
    "If we list all the natural numbers below 10 that are multiplier of 3 or 5, we got 3, 5, 6, and 9. The sum of these numbers is 23. Find the sum of all the mutipliers of 3 or 5 below 1000."
   ]
  },
  {
   "cell_type": "code",
   "execution_count": null,
   "metadata": {},
   "outputs": [],
   "source": [
    "N = 1000;\n",
    "s = 0;\n",
    "for i in range(1, N):\n",
    "    if 0 == i % 3 or 0 == i % 5:\n",
    "        s += i\n",
    "\n",
    "s"
   ]
  },
  {
   "cell_type": "markdown",
   "metadata": {},
   "source": [
    "Plot Figs. 1.5 and 1.6 on *Applied Numerical Methods Using MATLAB* (P11) using Python"
   ]
  },
  {
   "cell_type": "code",
   "execution_count": null,
   "metadata": {},
   "outputs": [],
   "source": [
    "import numpy as np\n",
    "from mpl_toolkits.mplot3d import Axes3D\n",
    "import matplotlib.pyplot as plt\n",
    "\n",
    "t = np.arange(0, 6*np.pi, np.pi/50)\n",
    "expt = np.exp(-0.1 * t)\n",
    "xt = expt * np.cos(t)\n",
    "yt = expt * np.sin(t)\n",
    "\n",
    "# dividing the plot into 2 x 2 sections\n",
    "fig = plt.figure(figsize=(12,8), dpi=80)\n",
    "ax = fig.add_subplot(221, projection='3d')\n",
    "ax.plot(xt, yt, t)\n",
    "ax.grid()\n",
    "ax = fig.add_subplot(222, projection='3d')\n",
    "ax.view_init(elev=90, azim=-90)\n",
    "ax.plot(xt, yt, t)\n",
    "ax.grid()\n",
    "ax = fig.add_subplot(223, projection='3d')\n",
    "ax.view_init(elev=10, azim=-60)\n",
    "ax.plot(t, xt, yt)\n",
    "ax.grid()\n",
    "ax = fig.add_subplot(224, projection='3d')\n",
    "ax.view_init(elev=0, azim=-90)\n",
    "ax.plot(t, yt, xt)\n",
    "ax.grid()\n",
    "\n",
    "x = np.arange(-2, 2, .1)\n",
    "y = np.arange(-2, 2, .1)\n",
    "X, Y = np.meshgrid(x, y)\n",
    "Z = X**2 + Y**2\n",
    "fig = plt.figure(figsize=(12,8), dpi=80)\n",
    "ax = fig.add_subplot(221, projection='3d')\n",
    "ax.plot_wireframe(X, Y, Z)\n",
    "ax.grid()\n",
    "ax = fig.add_subplot(222, projection='3d')\n",
    "ax.view_init(elev=20, azim=0)\n",
    "ax.plot_wireframe(X, Y, Z)\n",
    "ax.grid()\n",
    "ax = fig.add_subplot(223)\n",
    "ax.contour(X, Y, Z)\n",
    "ax = fig.add_subplot(224)\n",
    "ax.contour(X, Y, Z, [0.5, 2, 4.5])"
   ]
  },
  {
   "cell_type": "markdown",
   "metadata": {},
   "source": [
    "**Vectorization vs. loop iteration**"
   ]
  },
  {
   "cell_type": "code",
   "execution_count": null,
   "metadata": {},
   "outputs": [],
   "source": [
    "import numpy as np\n",
    "import time\n",
    "\n",
    "N = 1000000\n",
    "th = np.linspace(0, np.pi,  N)\n",
    "start = time.time()\n",
    "ss = np.sin(th[0])\n",
    "for i in range(1, N):\n",
    "    ss += np.sin(th[i])\n",
    "\n",
    "print('result =', ss)\n",
    "print('time cost for loop:', time.time()-start)\n",
    "\n",
    "start = time.time()\n",
    "ss = np.sum(np.sin(th))\n",
    "print('result =', ss)\n",
    "print('time cost for vectorization:', time.time()-start)"
   ]
  },
  {
   "cell_type": "code",
   "execution_count": null,
   "metadata": {},
   "outputs": [],
   "source": []
  }
 ],
 "metadata": {
  "kernelspec": {
   "display_name": "Python 3",
   "language": "python",
   "name": "python3"
  },
  "language_info": {
   "codemirror_mode": {
    "name": "ipython",
    "version": 3
   },
   "file_extension": ".py",
   "mimetype": "text/x-python",
   "name": "python",
   "nbconvert_exporter": "python",
   "pygments_lexer": "ipython3",
   "version": "3.7.5"
  }
 },
 "nbformat": 4,
 "nbformat_minor": 2
}
