{
 "cells": [
  {
   "cell_type": "markdown",
   "metadata": {},
   "source": [
    "# The Basics of Applied Numerical Methods Using Python "
   ]
  },
  {
   "cell_type": "markdown",
   "metadata": {},
   "source": [
    "## Practice, practice, and more practices ... "
   ]
  },
  {
   "cell_type": "markdown",
   "metadata": {},
   "source": [
    "**Fibonacci sequence**\n",
    "- Iterative\n",
    "- Recursion (function call) think about the computation efficiency\n",
    "- Can we use vectorization?"
   ]
  },
  {
   "cell_type": "code",
   "execution_count": 2,
   "metadata": {},
   "outputs": [
    {
     "name": "stdout",
     "output_type": "stream",
     "text": [
      "[1, 1, 2, 3, 5, 8, 13, 21, 34, 55, 89, 144, 233, 377, 610, 987, 1597, 2584, 4181, 6765]\n"
     ]
    }
   ],
   "source": [
    "# Iterative\n",
    "fib = [1, 1]\n",
    "N = 20\n",
    "for i in range(2, N):\n",
    "    fib.append(fib[i-1] + fib[i-2])\n",
    "\n",
    "print(fib)"
   ]
  },
  {
   "cell_type": "code",
   "execution_count": 4,
   "metadata": {},
   "outputs": [
    {
     "name": "stdout",
     "output_type": "stream",
     "text": [
      "1 1\n",
      "2 1\n",
      "3 2\n",
      "4 3\n",
      "5 5\n",
      "6 8\n",
      "7 13\n",
      "8 21\n",
      "9 34\n",
      "10 55\n",
      "11 89\n",
      "12 144\n",
      "13 233\n",
      "14 377\n",
      "15 610\n",
      "16 987\n",
      "17 1597\n",
      "18 2584\n",
      "19 4181\n",
      "20 6765\n"
     ]
    }
   ],
   "source": [
    "# Recursion\n",
    "def fibonacci_rec(n):\n",
    "    if n < 3:  # n==1 | n==2\n",
    "        return 1\n",
    "    else:\n",
    "        return fibonacci_rec(n-1) + fibonacci_rec(n-2)\n",
    "\n",
    "for i in range(1, N+1):\n",
    "    print(i, fibonacci_rec(i))"
   ]
  },
  {
   "cell_type": "markdown",
   "metadata": {},
   "source": [
    "**Formula**\n",
    "\n",
    "$a_n=\\frac{1}{\\sqrt{5}}\\bigg[\\bigg(\\frac{1+\\sqrt{5}}{2}\\bigg)^n-\\bigg(\\frac{1-\\sqrt{5}}{2}\\bigg)^n\\bigg]$"
   ]
  },
  {
   "cell_type": "code",
   "execution_count": 7,
   "metadata": {},
   "outputs": [
    {
     "data": {
      "text/plain": [
       "(1.0, 1.0, 2.0, 55.000000000000014, 6765.000000000005)"
      ]
     },
     "execution_count": 7,
     "metadata": {},
     "output_type": "execute_result"
    }
   ],
   "source": [
    "import numpy as np\n",
    "\n",
    "sqrt_5 = np.sqrt(5)\n",
    "fib = lambda n: 1/sqrt_5 * (((1+np.sqrt(5))/2)**n - ((1-np.sqrt(5))/2)**n)\n",
    "\n",
    "fib(1), fib(2), fib(3), fib(10), fib(20)"
   ]
  },
  {
   "cell_type": "markdown",
   "metadata": {},
   "source": [
    "**Matrix "
   ]
  }
 ],
 "metadata": {
  "kernelspec": {
   "display_name": "Python 3",
   "language": "python",
   "name": "python3"
  },
  "language_info": {
   "codemirror_mode": {
    "name": "ipython",
    "version": 3
   },
   "file_extension": ".py",
   "mimetype": "text/x-python",
   "name": "python",
   "nbconvert_exporter": "python",
   "pygments_lexer": "ipython3",
   "version": "3.7.4"
  }
 },
 "nbformat": 4,
 "nbformat_minor": 2
}
