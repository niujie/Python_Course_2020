{
 "cells": [
  {
   "cell_type": "markdown",
   "metadata": {},
   "source": [
    "# The Basics of Applied Numerical Methods Using Python - 5"
   ]
  },
  {
   "cell_type": "markdown",
   "metadata": {},
   "source": [
    "## Correlation Analysis\n",
    "\n",
    "- Pearson correlation coefficient\n",
    "- Rank correlation (Spearman)\n",
    "- Coefficient of determination ($R^2$)"
   ]
  },
  {
   "cell_type": "markdown",
   "metadata": {},
   "source": [
    "### Pearson correlation coefficient\n",
    "\n",
    "![Pearson_corr_coef_1](./images/Pearson_corr_coef_1.png)\n",
    "\n",
    "In statistics, the Pearson correlation coefficient (PCC), also referred to as the Pearson's $r$, Pearson product-moment correlation coefficient (PPMCC) or bivariate correlation, is a measure of the **linear correlation** between two variables $\\mathbf{X}$ and $\\mathbf{Y}$. It has a value between $+1$ and $-1$, where $1$ is a total positive linear correlation, $0$ is no linear correlation, and $-1$ is total negative linear correlation.\n",
    "\n",
    "![Pearson_corr_coef_2](./images/Pearson_corr_coef_2.png)"
   ]
  },
  {
   "cell_type": "markdown",
   "metadata": {},
   "source": [
    "Pearson's correlation coefficient is the **covariance** of the two variables divided by the product of their **standard deviation**s.\n",
    "\n",
    "$$\\rho_{X,Y}=\\frac{\\mathrm{cov}\\left(X,Y\\right)}{\\sigma_{X}\\sigma_{Y}}$$\n",
    "\n",
    "where\n",
    "- $\\mathrm{cov}$ is the <font color=#0099ff>covariance</font>\n",
    "- $\\sigma_{X}$ is the <font color=#0099ff>standard deviation</font> of $X$\n",
    "- $\\sigma_{Y}$ is the <font color=#0099ff>standard deviation</font> of $Y$\n",
    "\n",
    "The formula for $\\rho$ can be expressed in terms of mean and expectation. Since\n",
    "\n",
    "$$\\mathrm{cov}\\left(X,Y\\right)=\\mathrm{E}\\left[\\left(X-\\mu_{X}\\right)\\left(Y-\\mu_{Y}\\right)\\right]$$\n",
    "\n",
    "Then the formula for $\\rho$ can also be written as\n",
    "\n",
    "$$\\rho_{X,Y}=\\frac{\\mathrm{E}\\left[\\left(X-\\mu_{X}\\right)\\left(Y-\\mu_{Y}\\right)\\right]}{\\sigma_{X}\\sigma_{Y}}$$\n",
    "\n",
    "where\n",
    "- $\\mathrm{cov}$ and $\\sigma_{X}$ are defined as above\n",
    "- $\\mu_{X}$ is the <font color=#0099ff>mean</font> of $X$\n",
    "- $\\mathrm{E}$ is the <font color=#0099ff>expectatoin</font>."
   ]
  },
  {
   "cell_type": "markdown",
   "metadata": {},
   "source": [
    "#### *Expectation\n",
    "\n",
    "- Suppose random variable $X$ can take value $x_1$ with probability $p_1$, value $x_2$ with probability $p_2$, and so on, up to value $x_k$ with probability $p_k$. Then the expectation of this random variable $X$ is defined as\n",
    "\n",
    "$$\\mathrm{E}\\left[X\\right]=x_1p_1+x_2p_2+\\dots+x_kp_k.$$\n",
    "\n",
    "- Since all probabilities $p_i$ add up to one $(p_1+p_2+\\dots+p_k=1)$, the expected value can be viewed as the weighted average, with $p_i$'s being the weights:  \n",
    "\n",
    "$$\\mathrm{E}[X]=\\frac{x_1p_1+x_2p_2+\\dots+x_kp_k}{1}=\\frac{x_1p_1+x_2p_2+\\dots+x_kp_k}{p_1+p_2+\\dots+p_k}.$$  \n",
    "\n",
    "- If all outcomes $x_i$ are equally likely (that is, $p_1=p_2\\dots=p_k$, then the weighted average trans into the simple average."
   ]
  },
  {
   "cell_type": "markdown",
   "metadata": {},
   "source": [
    "#### *Standard deviation\n",
    "\n",
    "- In statistics, the standard deviation (SD, also represented by the Geek letter $\\sigma$ or the Latin letter $s$) is a measure that is used to quantify the amount of variation or dispersion of a set of data values. A low standard deviation indicates that the data points tend to be close to the mean (also called the expected value) of the set, while a high standard deviation indicates that the data points are spread out over a wider range of values.\n",
    "\n",
    "![std](./images/std.png)\n",
    "\n",
    "Let $X$ be a <font color=#0099ff>rand variable</font> with mean value $\\mu$:\n",
    "\n",
    "$$\\mathrm{E}[X]=\\mu.$$\n",
    "\n",
    "Here the operator $\\mathrm{E}$ denotes the average or <font color=#0099ff>expected value</font> of $X$. Then the **standard deviation** of $X$ is the quantiy\n",
    "\n",
    "$$\\begin{aligned}\n",
    "\\sigma&=\\sqrt{\\mathrm{E}\\left[\\left(X-\\mu\\right)^2\\right]}\\\\\n",
    "&=\\sqrt{\\mathrm{E}\\left[X^2\\right]+\\mathrm{E}\\left[-2\\mu X\\right]+\\mathrm{E}\\left[\\mu^2\\right]}\\\\\n",
    "&=\\sqrt{\\mathrm{E}\\left[X^2\\right]-2\\mu\\mathrm{E}\\left[X\\right]+\\mu^2}\\\\\n",
    "&=\\sqrt{\\mathrm{E}\\left[X^2\\right]-2\\mu^2+\\mu^2}\\\\\n",
    "&=\\sqrt{\\mathrm{E}\\left[X^2\\right]-\\mu^2}\\\\\n",
    "&=\\sqrt{\\mathrm{E}\\left[X^2\\right]+\\left(\\mathrm{E}[X]\\right)^2}\\\\\n",
    "\\end{aligned}$$"
   ]
  },
  {
   "cell_type": "markdown",
   "metadata": {},
   "source": [
    "$\\sigma=\\sqrt{\\frac{1}{N}\\left[\\left(x_1-\\mu\\right)^2+\\left(x_2-\\mu\\right)^2+\\dots+\\left(x_N-\\mu\\right)^2\\right]}$, where $\\mu=\\frac{1}{N}\\left(x_1+\\dots+x_N\\right)$\n",
    "\n",
    "or, using <font color=#0099ff>summation</font> notation,\n",
    "\n",
    "$$\\sigma=\\sqrt{\\frac{1}{N}\\sum_{i=1}^N\\left(x_i-\\mu\\right)^2},$$\n",
    "\n",
    "where $\\mu=\\frac{1}{N}\\sum_{i=1}^Nx_i$.\n",
    "\n",
    "$\\sigma=\\sqrt{\\sum_{i=1}^Np_i\\left(x_i-\\mu\\right)^2}$, where $\\mu=\\sum_{i=1}^Np_ix_i$."
   ]
  },
  {
   "cell_type": "markdown",
   "metadata": {},
   "source": [
    "### Pearson correlation analysis\n",
    "\n",
    "The formula for $\\rho$ can be expressed in terms of uncentered moments. Since\n",
    "\n",
    "- $\\mu_X=\\mathrm{E}[X]$\n",
    "- $\\mu_Y=\\mathrm{E}[Y]$\n",
    "- $\\sigma_X^2=\\mathrm{E}\\left[\\left(X-\\mathrm{E}[X]\\right)^2\\right]=\\mathrm{E}\\left[X^2\\right]-\\left[\\mathrm{E}[X]\\right]^2$\n",
    "- $\\sigma_Y^2=\\mathrm{E}\\left[\\left(Y-\\mathrm{E}[Y]\\right)^2\\right]=\\mathrm{E}\\left[Y^2\\right]-\\left[\\mathrm{E}[Y]\\right]^2$\n",
    "- $\\mathrm{E}\\left[(X-\\mu_X)(Y-\\mu_Y)\\right]=\\mathrm{E}[(X-\\mathrm{E}[X])(Y-\\mathrm{E}[Y])]=\\mathrm{E}[XY]-\\mathrm{E}[X]\\mathrm{E}[Y]$,\n",
    "\n",
    "the formula for $\\rho$ can also be written as\n",
    "\n",
    "$\\rho_{X,Y}=\\frac{\\mathrm{E}[XY]-\\mathrm{E}[X]\\mathrm{E}[Y]}{\\sqrt{\\mathrm{E}\\left[X^2\\right]-\\left[\\mathrm{E}[X]\\right]^2}\\sqrt{\\mathrm{E}\\left[Y^2\\right]-\\left[\\mathrm{E}[Y]\\right]^2}}$."
   ]
  },
  {
   "cell_type": "markdown",
   "metadata": {},
   "source": [
    "$$r=\\frac{\\sum_{i=1}^n\\left(x_i-\\bar{x}\\right)\\left(y_i-\\bar{y}\\right)}{\\sqrt{\\sum_{i=1}^n\\left(x_i-\\bar{x}\\right)^2}\\sqrt{\\sum_{i=1}^n\\left(y_i-\\bar{y}\\right)^2}}$$\n",
    "\n",
    "Rearanging gives us this formula for $r$.\n",
    "\n",
    "$$r=r_{xy}=\\frac{n\\sum x_iy_i-\\sum x_i\\sum y_i}{\\sqrt{n\\sum x_i^2-\\left(\\sum x_i\\right)^2}\\sqrt{n\\sum y_i^2-\\left(\\sum y_i\\right)^2}}.$$\n",
    "\n",
    "This formula suggests a convenient single-pass algorithm for calculating sample correlations, but, depending on the numbers involved, it can sometimes be numerically unstable."
   ]
  },
  {
   "cell_type": "markdown",
   "metadata": {},
   "source": [
    "Some other formulas\n",
    "\n",
    "$$r=r_{xy}=\\frac{\\sum x_iy_i-n\\bar{x}\\bar{y}}{\\sqrt{\\left(\\sum x_i^2-n\\bar{x}^2\\right)}\\sqrt{\\left(\\sum y_i^2-n\\bar{y}^2\\right)}}$$\n",
    "\n",
    "$$r=r_{xy}=\\frac{1}{n-1}\\sum_{i=1}^n\\left(\\frac{x_i-\\bar{x}}{s_x}\\right)\\left(\\frac{y_i-\\bar{y}}{s_y}\\right)$$\n",
    "\n",
    "- $\\left(\\frac{x_i-\\bar{x}}{s_x}\\right)$ is the standard score (and analogously for the standard score of $y$)\n",
    "\n",
    "$$r=r_{xy}=\\frac{\\sum x_iy_i-n\\bar{x}\\bar{y}}{(n-1)s_xs_y}$$\n",
    "\n",
    "- $s_x=\\sqrt{\\frac{1}{n-1}\\sum_{i=1}^n\\left(x_i-\\bar{x}\\right)^2}$ (the sample standard deviation); and analogously for $s_y$"
   ]
  },
  {
   "cell_type": "markdown",
   "metadata": {},
   "source": [
    "SciPy Statistical Library (<font color=#0099ff>scipy.stats</font>), and step-by-step script."
   ]
  },
  {
   "cell_type": "code",
   "execution_count": null,
   "metadata": {},
   "outputs": [],
   "source": [
    "# EX1 Pearson correlation coefficient\n",
    "import numpy as np\n",
    "import random\n",
    "import matplotlib.pyplot as plt\n",
    "plt.rcParams.update({'font.size': 22})\n",
    "\n",
    "t = np.arange(-2 * np.pi, 2 * np.pi, 0.1)\n",
    "x = np.sin(t)\n",
    "y = np.sin(t) + np.random.rand(len(t)) - 0.5\n",
    "\n",
    "fig = plt.figure(figsize=(12, 8), dpi=120)\n",
    "ax = fig.add_subplot(211)\n",
    "ax.plot(t, x, linewidth=2, label='sin(t)')\n",
    "ax.plot(t, y, 'ro', markersize=3, markerfacecolor='r', label='sin(t) + noise')\n",
    "ax.legend()\n",
    "\n",
    "ax = fig.add_subplot(212)\n",
    "ax.plot(x, y, 'bo', markersize=3, markerfacecolor='b', label='data')\n",
    "\n",
    "xx = np.arange(-1.1, 1.1, 0.1)\n",
    "ax.plot(xx, 1.073 * xx + 0.0197, 'r', linewidth=2, label='y = 1.073 x + 0.0197')\n",
    "ax.legend()\n",
    "ax.set_xlabel('x')\n",
    "ax.set_ylabel('y')"
   ]
  },
  {
   "cell_type": "code",
   "execution_count": null,
   "metadata": {},
   "outputs": [],
   "source": [
    "from scipy import stats\n",
    "\n",
    "r, p = stats.pearsonr(x, y)\n",
    "print('r = {}, p = {}'.format(r, p))"
   ]
  },
  {
   "cell_type": "code",
   "execution_count": null,
   "metadata": {},
   "outputs": [],
   "source": [
    "# step-by-step script 1\n",
    "\n",
    "n = len(t)\n",
    "# ux = np.mean(x)\n",
    "ux = 0\n",
    "for i in range(len(x)):\n",
    "    ux += x[i]\n",
    "ux /= n\n",
    "assert np.mean(x) - ux < 1e-12\n",
    "# uy = np.mean(y)\n",
    "uy = 0\n",
    "for i in range(len(y)):\n",
    "    uy += y[i]\n",
    "uy /= n\n",
    "assert np.mean(y) - uy < 1e-12\n",
    "# numerator = np.sum((x - np.mean(x))*(y - np.mean(y)))\n",
    "denominator = np.sqrt(np.sum((x - np.mean(x))**2))*np.sqrt(np.sum((y - np.mean(y))**2))\n",
    "numerator = 0\n",
    "denominator1 = 0\n",
    "denominator2 = 0\n",
    "for i in range(len(x)):\n",
    "    numerator += (x[i] - ux) * (y[i] - uy)\n",
    "    denominator1 += (x[i] - ux)**2\n",
    "    denominator2 += (y[i] - uy)**2\n",
    "denominator1 = np.sqrt(denominator1)\n",
    "denominator2 = np.sqrt(denominator2)\n",
    "assert np.sum((x - np.mean(x))*(y - np.mean(y))) - numerator < 1e-9\n",
    "assert denominator1 * denominator2 - denominator < 1e-9\n",
    "r1 = numerator / (denominator1 * denominator2)\n",
    "print('Step-by-step 1: r =', r1)"
   ]
  },
  {
   "cell_type": "code",
   "execution_count": null,
   "metadata": {},
   "outputs": [],
   "source": [
    "# step-by-step script 2\n",
    "r2 = (n * (x * y).sum() - x.sum() * y.sum()) / (np.sqrt(n * (x**2).sum() - x.sum()**2) * np.sqrt(n * (y**2).sum() - y.sum()**2))\n",
    "print('Step-by-step 2: r = ', r2)"
   ]
  },
  {
   "cell_type": "code",
   "execution_count": null,
   "metadata": {},
   "outputs": [],
   "source": [
    "# step-by-step script 3\n",
    "r3 = ((x * y).sum() - n * np.mean(x) * np.mean(y)) / (np.sqrt((x ** 2).sum() - n * np.mean(x)**2) * np.sqrt((y ** 2).sum() - n * np.mean(y)**2))\n",
    "print('Step-by-step 3: r = ', r3)"
   ]
  },
  {
   "cell_type": "markdown",
   "metadata": {},
   "source": [
    "### Spearman correlation coefficient\n",
    "\n",
    "- defined as the Pearson correlation coefficient between the ranked variables.\n",
    "\n",
    "$$r_s=\\rho_{rg_X,rg_Y}=\\frac{\\mathrm{cov}\\left(rg_X,rg_Y\\right)}{\\sigma_{rg_X}\\sigma_{rg_Y}}$$\n",
    "\n",
    "where\n",
    "\n",
    "- $\\rho$ denotes he usual <font color=#0099ff>Pearson correlation coefficient</font>, but applied to the rank variables.\n",
    "- $\\mathrm{cov}\\left(rg_X,rg_Y\\right)$ is the <font color=#009ff>covariance</font> of the rank variables.\n",
    "- $\\sigma_{rg_X}$ and $\\sigma_{rg_Y}$ are the <font color=#009ff>standard deviations</font> of the rank variables."
   ]
  },
  {
   "cell_type": "code",
   "execution_count": null,
   "metadata": {},
   "outputs": [],
   "source": [
    "# EX2 Spearman correlation coefficient\n",
    "\n",
    "r, p = stats.spearmanr(x, y)\n",
    "print('r = {}, p = {}'.format(r, p))"
   ]
  },
  {
   "cell_type": "code",
   "execution_count": null,
   "metadata": {},
   "outputs": [],
   "source": [
    "# step-be-step calculation\n",
    "\n",
    "rx = stats.rankdata(x)\n",
    "ry = stats.rankdata(y)\n",
    "r = np.cov(rx, ry) / np.std(rx) / np.std(ry)\n",
    "print('Step-by-step: r =', r[0][1])"
   ]
  },
  {
   "cell_type": "markdown",
   "metadata": {},
   "source": [
    "### Coefficient of determination ($R^2$)\n",
    "\n",
    "In statistics, the coefficient of determination, is a number that indicates the proportion the variance in the dependent variable that is predictable from the independent variable(s).\n",
    "\n",
    "If $\\bar{y}$ is the mean of the observed data:\n",
    "$$\\bar{y}=\\frac{1}{n}\\sum_{i=1}^n y_i$$\n",
    "\n",
    "- The <font color=#0099ff>total sum of squares</font> (proportional to the <font color=#0099ff>variance</font> of the data):\n",
    "$$SS_{tot}=\\sum_i\\left(y_i-\\bar{y}\\right)^2,$$\n",
    "\n",
    "- The regression sum of squares, also called the <font color=#0099ff>explained sum of squares</font>:\n",
    "$$SS_{reg}=\\sum_i\\left(f_i-\\bar{y}\\right)^2,$$\n",
    "\n",
    "- The sum of squares of residuals, also called the <font color=#0099ff>residual sum of squares</font>:\n",
    "$$SS_{res}=\\sum_i\\left(y_i-f_i\\right)^2=\\sum_i e_i^2$$\n",
    "\n",
    "<br/>\n",
    "The most general definition of the coefficient of determination is\n",
    "$$R^2\\equiv1-\\frac{SS_{res}}{SS_{tot}}.$$\n",
    "\n",
    "$$SS_{res}+SS_{reg}=SS_{tot}.$$\n",
    "\n",
    "$$R^2=\\frac{SS_{reg}}{SS_{tot}}=\\frac{SS_{reg}/n}{SS_{tot}/n}.$$"
   ]
  },
  {
   "cell_type": "code",
   "execution_count": null,
   "metadata": {},
   "outputs": [],
   "source": [
    "# EX3 Coefficient of determination\n",
    "sim = x\n",
    "obs = y\n",
    "\n",
    "SSres = np.sum((sim - obs)**2)\n",
    "SStot = np.sum((obs - np.mean(obs))**2)\n",
    "R2 = 1 - SSres / SStot\n",
    "print('R^2 = 1 - SSres / SStot = ', R2)\n",
    "\n",
    "SSreg = np.sum((sim - np.mean(obs))**2)\n",
    "R2 = SSreg / SStot\n",
    "print('R^2 = SSreg / SStot = ', R2)"
   ]
  },
  {
   "cell_type": "code",
   "execution_count": null,
   "metadata": {},
   "outputs": [],
   "source": []
  }
 ],
 "metadata": {
  "kernelspec": {
   "display_name": "Python 3",
   "language": "python",
   "name": "python3"
  },
  "language_info": {
   "codemirror_mode": {
    "name": "ipython",
    "version": 3
   },
   "file_extension": ".py",
   "mimetype": "text/x-python",
   "name": "python",
   "nbconvert_exporter": "python",
   "pygments_lexer": "ipython3",
   "version": "3.7.4"
  }
 },
 "nbformat": 4,
 "nbformat_minor": 2
}
