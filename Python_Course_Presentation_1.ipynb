{
 "cells": [
  {
   "cell_type": "markdown",
   "metadata": {},
   "source": [
    "# The Basics of Applied Numerical Methods Using Python (MATLAB) "
   ]
  },
  {
   "cell_type": "markdown",
   "metadata": {},
   "source": [
    "## References\n",
    "### MATLAB\n",
    "- Applied Numerical Methods Using MATLAB  \n",
    "  -- *Won Young Yang et al.*\n",
    "\n",
    "- Envrionmental Modeling Using MATLAB  \n",
    "  -- *E. Holzbecher*\n",
    "\n",
    "- Numerical Methods in Engineering with MATLAB (2nd Edition)  \n",
    "  -- *Jaan Kiusalaas*\n",
    "\n",
    "- Physical Modeling in MATLAB  \n",
    "  -- * Allen B. Downey\n",
    "\n",
    "- Advanced Applied Mathematical Problem Solutions with MATLAB (3rd Edition)  \n",
    "  高等应用数学问题的MATLAB求解（第三版）  \n",
    "  -- *薛定宇、陈阳泉* 清华大学出版社\n",
    "\n",
    "- The Basics of Applied Numerical Methods Using MATLAB (Course PPT)  \n",
    "  -- *Jie Niu*\n",
    "\n",
    "### Python\n",
    "- NumPy User Guide\n",
    "- NumPy Reference\n",
    "- SciPy User Guide\n",
    "- SciPy Reference\n",
    "- NumPy + SciPy Tutorial (*Jie Niu*)"
   ]
  },
  {
   "cell_type": "markdown",
   "metadata": {},
   "source": [
    "## What are MATLAB and Python?\n",
    "- Python is free, while MATLAB is EXPENSIVE\n",
    "- MATLAB is NOT a (serious) programming language, but Python is, just like  \n",
    "  -- Lisp, Basics, C/C++, Fortran, Java, Ruby, Haskell, Erlang, Go, ...\n",
    "- They are both interpreter (and both have compilers).\n",
    "  * Compiled language: Basic, C/C++, Fortran, Java, ...\n",
    "  * Interpretive language: Python, Ruby, Haskell, Javascript, ...\n",
    "- MATLAB is a powerful tool-set. Python plus its libraries are also very powerful.  \n",
    "  -- But Python has to call the libs explicitly, while MATLAB does not need to.\n",
    "- MATLAB itself is an IDE, e.g., Visual Studio, R Studio, Eclipse, Code:Blocks, NetBeans, Clion.  \n",
    "  -- For Python, the best IDE is PyCharm.\n",
    "- They both can be used as an advanced calculator.  \n",
    "  -- MATLAB is heavy and starts slowly, but Python REPL (Read-Evaluate-Print Loop) is light and fast.\n",
    "- They both perform relatively slowly, due to their interpretive nature, comparing to compiled languages.  \n",
    "  -- but can be fast if you code properly: vectorization, avoid loop, calling numpy, etc."
   ]
  },
  {
   "cell_type": "markdown",
   "metadata": {},
   "source": [
    "## What can they do?\n",
    "They are both tool-set of:\n",
    "- Numerical methods (fundamental mathematics, linear algebra, interpolation, curving fitting, numerical differentiation / integration, ODE/PDE solvers, optimization, etc.)  \n",
    "  -- MATLAB is more user-friendly and generally better than Python + libraries for these.\n",
    "- Statistics and Machine Learning  \n",
    "  -- MATLAB has better Statistics toolbox, but Python has more powerful Machine Learning libraries.\n",
    "- Symbolic Calculations  \n",
    "  -- Both are not good at this, comparing to Mathematica.\n",
    "- Neural Network  \n",
    "  -- MATLAB has Deep Learning Toolbox  \n",
    "  -- Python has PyTorch, TensorFlow, ... Python is much powerful.\n",
    "- Control Systems  \n",
    "  -- Merit of MATLAB. None for Python.\n",
    "- Signal Processing and Communications  \n",
    "  -- MATLAB has powerful toolbox for these, way better than Python.\n",
    "- Image Processing and Computer Vision\n",
    "- Computational Finance\n",
    "- Computatinal Biology\n",
    "- Physical Modeling\n",
    "- ..."
   ]
  },
  {
   "cell_type": "markdown",
   "metadata": {},
   "source": [
    "## MATLAB Plot Gallery\n",
    "**Standard Plots**\n",
    "![Standard Plots 1](./images/MATLAB_Plot_Gallery_1.png)\n",
    "![Standard Plots 2](./images/MATLAB_Plot_Gallery_2.png)  \n",
    "**Customizing Plots**\n",
    "![Customizing Plots](./images/MATLAB_Plot_Gallery_3.png)  \n",
    "**Advanced Plots**\n",
    "![Advanced Plots](./images/MATLAB_Plot_Gallery_4.png)"
   ]
  },
  {
   "cell_type": "markdown",
   "metadata": {},
   "source": [
    "## Python matplotlib Gallery\n",
    "[**Too many examples!!!!**](https://matplotlib.org/3.1.1/gallery/index.html)"
   ]
  },
  {
   "cell_type": "markdown",
   "metadata": {},
   "source": [
    "## What are Numerical Methods?\n",
    "Numerical analysis is the study of **algorithms** that use **numerical approximation** (as opposed to general symbolic manipulations) for the problems of mathematical analysis (as distinguished from discrete mathematics). -- *wikipedia*\n",
    "\n",
    "- e.g. how to calculate $\\sqrt{2}$ ?\n",
    "\n",
    "- e.g. root finding.\n",
    "\n",
    "![Newton Iteration](./images/NewtonIteration_Ani.gif)\n",
    "\n",
    "- Interpolation and Curve Fitting\n",
    " - Linear / Cubic Spline interpolation\n",
    " - 1D/2D interpolation\n",
    "- Solving System of Linear Equations\n",
    " - Gauss Elimination\n",
    " - LU Decomposition\n",
    " - Jacobi Iteration\n",
    " - Gauss-Seidel Iteration\n",
    " - ...\n",
    "- Numerical Differentiatial Equations\n",
    " - Euler's Method\n",
    " - Runge - Kutta Method\n",
    " - Predictor - Corrector Method\n",
    " - Boundary Value Problem (BVP)\n",
    " - ...\n",
    "- Optimization\n",
    "- Matrices and Eigenvalues\n",
    "- Partial Differential Equations"
   ]
  },
  {
   "cell_type": "markdown",
   "metadata": {},
   "source": [
    "**MATLAB GUI and CLI**\n",
    "\n",
    "**Python REPL, IPython REPL, PyCharm, and Jupyter Notebook**"
   ]
  },
  {
   "cell_type": "markdown",
   "metadata": {},
   "source": [
    "## Basics"
   ]
  },
  {
   "cell_type": "markdown",
   "metadata": {},
   "source": [
    "### Calculator"
   ]
  },
  {
   "cell_type": "code",
   "execution_count": null,
   "metadata": {},
   "outputs": [],
   "source": [
    "2 + 1"
   ]
  },
  {
   "cell_type": "code",
   "execution_count": null,
   "metadata": {},
   "outputs": [],
   "source": [
    "3 * 4"
   ]
  },
  {
   "cell_type": "code",
   "execution_count": null,
   "metadata": {},
   "outputs": [],
   "source": [
    "2 * 5 - 3 / (4 + 2)"
   ]
  },
  {
   "cell_type": "code",
   "execution_count": null,
   "metadata": {},
   "outputs": [],
   "source": [
    "(2 + 3j) + (3 + 2j)  # in MATLAB, bot 'i' and 'j' works. But only 'j' in Python."
   ]
  },
  {
   "cell_type": "code",
   "execution_count": null,
   "metadata": {},
   "outputs": [],
   "source": [
    "2 + 3i"
   ]
  },
  {
   "cell_type": "code",
   "execution_count": null,
   "metadata": {},
   "outputs": [],
   "source": [
    "(2 + 2j) * (3 + 3j)"
   ]
  },
  {
   "cell_type": "code",
   "execution_count": null,
   "metadata": {},
   "outputs": [],
   "source": [
    "2**3  # use '^'' in MATLAB"
   ]
  },
  {
   "cell_type": "code",
   "execution_count": null,
   "metadata": {},
   "outputs": [],
   "source": [
    "2^3"
   ]
  },
  {
   "cell_type": "code",
   "execution_count": null,
   "metadata": {},
   "outputs": [],
   "source": [
    "sin(30)  # in MATLAB one can call this math function directly, but not in Python"
   ]
  },
  {
   "cell_type": "code",
   "execution_count": null,
   "metadata": {},
   "outputs": [],
   "source": [
    "import numpy as np\n",
    "\n",
    "np.sin(30)"
   ]
  },
  {
   "cell_type": "code",
   "execution_count": null,
   "metadata": {},
   "outputs": [],
   "source": [
    "np.sin(np.deg2rad(90))  # sind(90) in MATLAB"
   ]
  },
  {
   "cell_type": "code",
   "execution_count": null,
   "metadata": {},
   "outputs": [],
   "source": [
    "np.sin(90 * np.pi/180)"
   ]
  },
  {
   "cell_type": "code",
   "execution_count": null,
   "metadata": {},
   "outputs": [],
   "source": [
    "np.rad2deg(np.arcsin(1.0))  # asind(1.0) in MATLAB"
   ]
  },
  {
   "cell_type": "code",
   "execution_count": null,
   "metadata": {},
   "outputs": [],
   "source": [
    "np.exp(1)"
   ]
  },
  {
   "cell_type": "code",
   "execution_count": null,
   "metadata": {},
   "outputs": [],
   "source": [
    "np.log(np.exp(1))"
   ]
  },
  {
   "cell_type": "code",
   "execution_count": null,
   "metadata": {},
   "outputs": [],
   "source": [
    "np.sqrt(np.sin(0.5)**2+np.cos(0.5)**2)  # sqrt(sin(0.5)^2+cos(0.5)^2) in MATLAB"
   ]
  },
  {
   "cell_type": "markdown",
   "metadata": {},
   "source": [
    "**Documentation in MATLAB**\n",
    "- help sin\n",
    "- Or 'Help' windows (MATLAB Documentation Browser)"
   ]
  },
  {
   "cell_type": "code",
   "execution_count": null,
   "metadata": {},
   "outputs": [],
   "source": [
    "dir(np)"
   ]
  },
  {
   "cell_type": "code",
   "execution_count": null,
   "metadata": {},
   "outputs": [],
   "source": [
    "help(np.sin)"
   ]
  },
  {
   "cell_type": "markdown",
   "metadata": {},
   "source": [
    "### Variables"
   ]
  },
  {
   "cell_type": "code",
   "execution_count": null,
   "metadata": {},
   "outputs": [],
   "source": [
    "np.pi  # 'pi' in MATLAB"
   ]
  },
  {
   "cell_type": "code",
   "execution_count": null,
   "metadata": {},
   "outputs": [],
   "source": [
    "_  # 'ans' in MATLAB"
   ]
  },
  {
   "cell_type": "code",
   "execution_count": null,
   "metadata": {},
   "outputs": [],
   "source": [
    "x = 2 * 3\n",
    "x"
   ]
  },
  {
   "cell_type": "code",
   "execution_count": null,
   "metadata": {},
   "outputs": [],
   "source": [
    "del x  # 'clear x' in MATLAB\n",
    "x"
   ]
  },
  {
   "cell_type": "markdown",
   "metadata": {},
   "source": [
    "**Naming Convention**\n",
    "- A(a) - Z(z)\n",
    "- Do NOT start with numbers or special characters, e.g., 1x, ?x, _x (but starting with underscore is allowed in Python)\n",
    "\n",
    "**Why Variables?**\n",
    "- To avoid re-computing a value that is used repeatedly\n",
    "- To make the code more readable\n",
    "- To break a long computation into sequence of steps"
   ]
  },
  {
   "cell_type": "markdown",
   "metadata": {},
   "source": [
    "**Common Errors**\n",
    "- White space (missing the operators)\n",
    "- Unnecessary new line (for .m script only)\n",
    "- Indentation is important\n",
    "\n",
    "$\\frac{1}{2\\sqrt{\\pi}}$\n",
    "\n",
    "`1 / 2 * sqrt(pi)`\n",
    "\n",
    "- Always pay attention to the error and warning messages"
   ]
  },
  {
   "cell_type": "markdown",
   "metadata": {},
   "source": [
    "**Floating-point arithmetic**"
   ]
  },
  {
   "cell_type": "code",
   "execution_count": null,
   "metadata": {},
   "outputs": [],
   "source": [
    "1 / 3  # in MATLAB 'format long'"
   ]
  },
  {
   "cell_type": "code",
   "execution_count": null,
   "metadata": {},
   "outputs": [],
   "source": [
    "import sys\n",
    "sys.float_info.max  # 'realmax' in MATLAB"
   ]
  },
  {
   "cell_type": "code",
   "execution_count": null,
   "metadata": {},
   "outputs": [],
   "source": [
    "np.math.factorial(170)"
   ]
  },
  {
   "cell_type": "code",
   "execution_count": null,
   "metadata": {},
   "outputs": [],
   "source": [
    "np.math.factorial(171)"
   ]
  },
  {
   "cell_type": "code",
   "execution_count": null,
   "metadata": {},
   "outputs": [],
   "source": [
    "speed_of_light = 3.0e8"
   ]
  },
  {
   "cell_type": "code",
   "execution_count": null,
   "metadata": {},
   "outputs": [],
   "source": [
    "1 / 0"
   ]
  },
  {
   "cell_type": "code",
   "execution_count": null,
   "metadata": {},
   "outputs": [],
   "source": [
    "0 / 0"
   ]
  },
  {
   "cell_type": "code",
   "execution_count": null,
   "metadata": {},
   "outputs": [],
   "source": [
    "np.nan * 0"
   ]
  },
  {
   "cell_type": "markdown",
   "metadata": {},
   "source": [
    "**Comments in MATLAB**  \n",
    "`x = 0; % this is a comment`  \n",
    "% everything after the '%' symbol on the same line won't be executed; y = 0  \n",
    "**Comments in Python**"
   ]
  },
  {
   "cell_type": "code",
   "execution_count": null,
   "metadata": {},
   "outputs": [],
   "source": [
    "# everything after the '#' symbol on the same line won't be executed; y = 0"
   ]
  },
  {
   "cell_type": "markdown",
   "metadata": {},
   "source": [
    "- Comments should be concise and explanatory"
   ]
  },
  {
   "cell_type": "markdown",
   "metadata": {},
   "source": [
    "**Script file**\n",
    "- Easy to edit and codes as a whole, and make everything correct.\n",
    "- Reusability\n",
    "- Faster to type the file name than to type the whole code.\n",
    "> The great power of scripts comes with great responsibility. So make sure everything is correct in your scripts."
   ]
  },
  {
   "cell_type": "markdown",
   "metadata": {},
   "source": [
    "**Plot in MATLAB**\n",
    "- plot\n",
    " - default x-axis\n",
    " - modified x-axis\n",
    " - plot styles (command line / figure editor)\n",
    "- grid on\n",
    "- axis\n",
    "- hold on"
   ]
  },
  {
   "cell_type": "code",
   "execution_count": null,
   "metadata": {},
   "outputs": [],
   "source": [
    "x = np.linspace(-2*np.pi, 2*np.pi, 100)\n",
    "y1 = np.sin(x)\n",
    "y2 = np.cos(x)\n",
    "\n",
    "import matplotlib.pyplot as plt\n",
    "plt.plot(x, y1)\n",
    "plt.plot(x, y2)\n",
    "plt.xlabel('X')\n",
    "plt.ylabel('Y')\n",
    "plt.legend(['sin', 'cos'])\n",
    "plt.grid()"
   ]
  },
  {
   "cell_type": "markdown",
   "metadata": {},
   "source": [
    "### Data Types"
   ]
  },
  {
   "cell_type": "code",
   "execution_count": null,
   "metadata": {},
   "outputs": [],
   "source": [
    "import numpy as np\n",
    "\n",
    "np.int8(128)"
   ]
  },
  {
   "cell_type": "code",
   "execution_count": null,
   "metadata": {},
   "outputs": [],
   "source": [
    "np.int8(-128)"
   ]
  },
  {
   "cell_type": "code",
   "execution_count": null,
   "metadata": {},
   "outputs": [],
   "source": [
    "x = np.int64(100)\n",
    "type(x)"
   ]
  },
  {
   "cell_type": "code",
   "execution_count": null,
   "metadata": {},
   "outputs": [],
   "source": [
    "x = np.float(100)\n",
    "x"
   ]
  },
  {
   "cell_type": "code",
   "execution_count": null,
   "metadata": {},
   "outputs": [],
   "source": [
    "type(x)"
   ]
  },
  {
   "cell_type": "code",
   "execution_count": null,
   "metadata": {},
   "outputs": [],
   "source": [
    "x = np.float64(1e8)\n",
    "x"
   ]
  },
  {
   "cell_type": "code",
   "execution_count": null,
   "metadata": {},
   "outputs": [],
   "source": [
    "type(1+1j)"
   ]
  },
  {
   "cell_type": "markdown",
   "metadata": {},
   "source": [
    "#### Arrays"
   ]
  },
  {
   "cell_type": "markdown",
   "metadata": {},
   "source": [
    "**1D vector**"
   ]
  },
  {
   "cell_type": "code",
   "execution_count": null,
   "metadata": {},
   "outputs": [],
   "source": [
    "x1d = [1, 2, 3]\n",
    "x1d"
   ]
  },
  {
   "cell_type": "code",
   "execution_count": null,
   "metadata": {},
   "outputs": [],
   "source": [
    "type(x1d)"
   ]
  },
  {
   "cell_type": "code",
   "execution_count": null,
   "metadata": {},
   "outputs": [],
   "source": [
    "x1d = np.array(x1d)\n",
    "x1d"
   ]
  },
  {
   "cell_type": "code",
   "execution_count": null,
   "metadata": {},
   "outputs": [],
   "source": [
    "type(x1d)"
   ]
  },
  {
   "cell_type": "code",
   "execution_count": null,
   "metadata": {},
   "outputs": [],
   "source": [
    "y = np.array([[1], [2], [3]])  ## [1; 2; 3] in MATLAB\n",
    "y"
   ]
  },
  {
   "cell_type": "code",
   "execution_count": null,
   "metadata": {},
   "outputs": [],
   "source": [
    "len(x1d)"
   ]
  },
  {
   "cell_type": "code",
   "execution_count": null,
   "metadata": {},
   "outputs": [],
   "source": [
    "len(y)"
   ]
  },
  {
   "cell_type": "code",
   "execution_count": null,
   "metadata": {},
   "outputs": [],
   "source": [
    "x1d.size"
   ]
  },
  {
   "cell_type": "code",
   "execution_count": null,
   "metadata": {},
   "outputs": [],
   "source": [
    "y.size"
   ]
  },
  {
   "cell_type": "code",
   "execution_count": null,
   "metadata": {},
   "outputs": [],
   "source": [
    "x1d.ndim"
   ]
  },
  {
   "cell_type": "code",
   "execution_count": null,
   "metadata": {},
   "outputs": [],
   "source": [
    "y.ndim"
   ]
  },
  {
   "cell_type": "markdown",
   "metadata": {},
   "source": [
    "MATLAB and Python (NumPy) are both column major, while C/C++ is row major.\n",
    "\n",
    "**2D**"
   ]
  },
  {
   "cell_type": "code",
   "execution_count": null,
   "metadata": {},
   "outputs": [],
   "source": [
    "x2d = np.array([[1, 2, 3], [4, 5, 6]])\n",
    "# [1, 2, 3; 4, 5, 6] in MATLAB\n",
    "x2d"
   ]
  },
  {
   "cell_type": "code",
   "execution_count": null,
   "metadata": {},
   "outputs": [],
   "source": [
    "type(x2d)"
   ]
  },
  {
   "cell_type": "code",
   "execution_count": null,
   "metadata": {},
   "outputs": [],
   "source": [
    "x2d.size"
   ]
  },
  {
   "cell_type": "code",
   "execution_count": null,
   "metadata": {},
   "outputs": [],
   "source": [
    "len(x2d)"
   ]
  },
  {
   "cell_type": "code",
   "execution_count": null,
   "metadata": {},
   "outputs": [],
   "source": [
    "x2d.ndim"
   ]
  },
  {
   "cell_type": "code",
   "execution_count": null,
   "metadata": {},
   "outputs": [],
   "source": [
    "len(x2d[:])"
   ]
  },
  {
   "cell_type": "code",
   "execution_count": null,
   "metadata": {},
   "outputs": [],
   "source": [
    "len(x2d[1])"
   ]
  },
  {
   "cell_type": "code",
   "execution_count": null,
   "metadata": {},
   "outputs": [],
   "source": [
    "np.reshape(x2d, (3, 2))"
   ]
  },
  {
   "cell_type": "markdown",
   "metadata": {},
   "source": [
    "But in MATLAB, it should be  \n",
    "``` MATALAB\n",
    ">> reshape(x2d, 3, 2)  % reshape(x2d, [3, 2])\n",
    "ans = \n",
    "  1  5\n",
    "  4  3\n",
    "  2  6\n",
    "```"
   ]
  },
  {
   "cell_type": "code",
   "execution_count": null,
   "metadata": {},
   "outputs": [],
   "source": [
    "x2d"
   ]
  },
  {
   "cell_type": "code",
   "execution_count": null,
   "metadata": {},
   "outputs": [],
   "source": [
    "x = np.linspace(1, 3, 10)\n",
    "x"
   ]
  },
  {
   "cell_type": "code",
   "execution_count": null,
   "metadata": {},
   "outputs": [],
   "source": [
    "y = np.logspace(1, 3, 10)\n",
    "y"
   ]
  },
  {
   "cell_type": "code",
   "execution_count": null,
   "metadata": {},
   "outputs": [],
   "source": [
    "import matplotlib.pyplot as plt\n",
    "plt.plot(x, y, 'o-')"
   ]
  },
  {
   "cell_type": "code",
   "execution_count": null,
   "metadata": {},
   "outputs": [],
   "source": [
    "np.zeros((2, 3))"
   ]
  },
  {
   "cell_type": "code",
   "execution_count": null,
   "metadata": {},
   "outputs": [],
   "source": [
    "np.ones((2, 3))"
   ]
  },
  {
   "cell_type": "code",
   "execution_count": null,
   "metadata": {},
   "outputs": [],
   "source": [
    "np.eye(3)"
   ]
  },
  {
   "cell_type": "code",
   "execution_count": null,
   "metadata": {},
   "outputs": [],
   "source": [
    "np.random.rand(2, 3)"
   ]
  },
  {
   "cell_type": "code",
   "execution_count": null,
   "metadata": {},
   "outputs": [],
   "source": [
    "x"
   ]
  },
  {
   "cell_type": "code",
   "execution_count": null,
   "metadata": {},
   "outputs": [],
   "source": [
    "x[:5]  # x(1:5) in MATLAB"
   ]
  },
  {
   "cell_type": "code",
   "execution_count": null,
   "metadata": {},
   "outputs": [],
   "source": [
    "x[0:5]"
   ]
  },
  {
   "cell_type": "code",
   "execution_count": null,
   "metadata": {},
   "outputs": [],
   "source": [
    "x[0:-1:2]  # x(1:2:end) in MATLAB"
   ]
  },
  {
   "cell_type": "code",
   "execution_count": null,
   "metadata": {},
   "outputs": [],
   "source": [
    "x[::2]"
   ]
  },
  {
   "cell_type": "code",
   "execution_count": null,
   "metadata": {},
   "outputs": [],
   "source": [
    "x[::-2]  # x(end:-2:1) in MATLAB"
   ]
  },
  {
   "cell_type": "code",
   "execution_count": null,
   "metadata": {},
   "outputs": [],
   "source": [
    "x2d"
   ]
  },
  {
   "cell_type": "code",
   "execution_count": null,
   "metadata": {},
   "outputs": [],
   "source": [
    "x2d[1, 1]  # x2d(2, 2) in MATLAB"
   ]
  },
  {
   "cell_type": "code",
   "execution_count": null,
   "metadata": {},
   "outputs": [],
   "source": [
    "x2d[1][1]"
   ]
  },
  {
   "cell_type": "code",
   "execution_count": null,
   "metadata": {},
   "outputs": [],
   "source": [
    "x2d[1]  ## x2d(2, :) in MATLAB"
   ]
  },
  {
   "cell_type": "code",
   "execution_count": null,
   "metadata": {},
   "outputs": [],
   "source": [
    "x2d.T  ## x2d' in MATLAB"
   ]
  },
  {
   "cell_type": "code",
   "execution_count": null,
   "metadata": {},
   "outputs": [],
   "source": [
    "x1d"
   ]
  },
  {
   "cell_type": "code",
   "execution_count": null,
   "metadata": {},
   "outputs": [],
   "source": [
    "x1d.T  ## no effect, but x1d' in MATLAB is different"
   ]
  },
  {
   "cell_type": "markdown",
   "metadata": {},
   "source": [
    "Cells in MATLAB\n",
    "```MATLAB\n",
    ">> c = {[1 2 3], 'one two three', 1+1i}\n",
    ">> celldisp(c)\n",
    ">> c{1}\n",
    ">> c{1}{2}\n",
    "```"
   ]
  },
  {
   "cell_type": "markdown",
   "metadata": {},
   "source": [
    "**Strings**"
   ]
  },
  {
   "cell_type": "code",
   "execution_count": null,
   "metadata": {},
   "outputs": [],
   "source": [
    "s1 = 'abc'\n",
    "s1"
   ]
  },
  {
   "cell_type": "code",
   "execution_count": null,
   "metadata": {},
   "outputs": [],
   "source": [
    "s2 = 'def'\n",
    "\n",
    "[s1, s2]"
   ]
  },
  {
   "cell_type": "code",
   "execution_count": null,
   "metadata": {},
   "outputs": [],
   "source": [
    "s1 + s2  # strcat(s, s2) or [s1, s2] in MATLAB"
   ]
  },
  {
   "cell_type": "code",
   "execution_count": null,
   "metadata": {},
   "outputs": [],
   "source": [
    "s1[0:2]"
   ]
  },
  {
   "cell_type": "markdown",
   "metadata": {},
   "source": [
    "#### Matrix operators"
   ]
  },
  {
   "cell_type": "code",
   "execution_count": null,
   "metadata": {},
   "outputs": [],
   "source": [
    "A = np.array([[1, 2, 3], [4, 5, 6]])\n",
    "B = np.array([[7, 8, 9], [0, 1, 2]])"
   ]
  },
  {
   "cell_type": "code",
   "execution_count": null,
   "metadata": {},
   "outputs": [],
   "source": [
    "A + B"
   ]
  },
  {
   "cell_type": "code",
   "execution_count": null,
   "metadata": {},
   "outputs": [],
   "source": [
    "A * B  # A .* B in MATLAB"
   ]
  },
  {
   "cell_type": "code",
   "execution_count": null,
   "metadata": {},
   "outputs": [],
   "source": [
    "A.dot(B.T)  # A * B' in MATLAB"
   ]
  },
  {
   "cell_type": "code",
   "execution_count": null,
   "metadata": {},
   "outputs": [],
   "source": [
    "A > 1"
   ]
  },
  {
   "cell_type": "code",
   "execution_count": null,
   "metadata": {},
   "outputs": [],
   "source": [
    "-A"
   ]
  },
  {
   "cell_type": "code",
   "execution_count": null,
   "metadata": {},
   "outputs": [],
   "source": [
    "A / B  # A ./ B in MATLAB"
   ]
  },
  {
   "cell_type": "code",
   "execution_count": null,
   "metadata": {},
   "outputs": [],
   "source": [
    "A**2  # A .^ 2 in MATLAB"
   ]
  },
  {
   "cell_type": "markdown",
   "metadata": {},
   "source": [
    "Right and left division\n",
    "```MATLAB\n",
    "B / A * A - B   % X * A = B\n",
    "A * (A \\ B) - B  % A * X = B\n",
    "```"
   ]
  },
  {
   "cell_type": "markdown",
   "metadata": {},
   "source": [
    "**Flow Control**\n",
    "- Conditionals\n",
    " - if, else, elif (`elseif` in MATLAB) (e.g., sign function)\n",
    " - switch, case, otherwise (Python has no switch)\n",
    "- Loops\n",
    " - while\n",
    " - for\n",
    " - break\n",
    " - continue"
   ]
  },
  {
   "cell_type": "code",
   "execution_count": null,
   "metadata": {},
   "outputs": [],
   "source": [
    "def my_sign(x):\n",
    "    '''My version of sign function\n",
    "       inputs:  x - any number\n",
    "       output: out\n",
    "    '''\n",
    "    if x > 0:\n",
    "        return '+'\n",
    "    elif x < 0:\n",
    "        return '-'\n",
    "    else:\n",
    "        return 0"
   ]
  },
  {
   "cell_type": "code",
   "execution_count": null,
   "metadata": {},
   "outputs": [],
   "source": [
    "my_sign(0)"
   ]
  },
  {
   "cell_type": "code",
   "execution_count": null,
   "metadata": {},
   "outputs": [],
   "source": [
    "my_sign(100)"
   ]
  },
  {
   "cell_type": "code",
   "execution_count": null,
   "metadata": {},
   "outputs": [],
   "source": [
    "my_sign(-100)"
   ]
  },
  {
   "cell_type": "markdown",
   "metadata": {},
   "source": [
    "**Functions**\n",
    "- return\n",
    "- error\n",
    "- function [output_args] = function_name(input_args) (MATLAB syntax)\n",
    "- Sub-functions\n",
    "- Nested Functions\n",
    "- Function Handle (Anonymous function)\n",
    "- Inline Functions"
   ]
  },
  {
   "cell_type": "markdown",
   "metadata": {},
   "source": [
    "## Homework\n",
    "1. Calculate Fibonacci sequence using script and function in both iterative and recursive ways;\n",
    "2. What is the limit of $\\frac{x_{i+1}}{x_i}$, where $x_i$ is the $i^{th}$ element of Fibonacci sequence?\n",
    "3. Try to present the results of 1 and 2 above in a pleasant manner."
   ]
  }
 ],
 "metadata": {
  "kernelspec": {
   "display_name": "Python 3",
   "language": "python",
   "name": "python3"
  },
  "language_info": {
   "codemirror_mode": {
    "name": "ipython",
    "version": 3
   },
   "file_extension": ".py",
   "mimetype": "text/x-python",
   "name": "python",
   "nbconvert_exporter": "python",
   "pygments_lexer": "ipython3",
   "version": "3.7.5"
  }
 },
 "nbformat": 4,
 "nbformat_minor": 2
}
