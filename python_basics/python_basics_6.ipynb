{
 "cells": [
  {
   "cell_type": "markdown",
   "metadata": {},
   "source": [
    "# Iterators, Iterables, and Itertools"
   ]
  },
  {
   "cell_type": "code",
   "execution_count": 1,
   "metadata": {},
   "outputs": [
    {
     "name": "stdout",
     "output_type": "stream",
     "text": [
      "CX32\n",
      "GSOF\n",
      "Emily\n",
      "Franz\n",
      "Rex\n"
     ]
    }
   ],
   "source": [
    "list = ['CX32', 'GSOF', 'Emily', 'Franz', 'Rex']\n",
    "for element in list:\n",
    "    print(element)"
   ]
  },
  {
   "cell_type": "code",
   "execution_count": 2,
   "metadata": {},
   "outputs": [
    {
     "name": "stdout",
     "output_type": "stream",
     "text": [
      "Jose\n",
      "Boh\n",
      "Rusti\n"
     ]
    }
   ],
   "source": [
    "for element in ('Jose', 'Boh', 'Rusti'):\n",
    "    print(element)"
   ]
  },
  {
   "cell_type": "code",
   "execution_count": 3,
   "metadata": {},
   "outputs": [
    {
     "name": "stdout",
     "output_type": "stream",
     "text": [
      "S\n",
      "o\n",
      "c\n",
      "r\n",
      "a\n",
      "t\n",
      "i\n",
      "c\n",
      "a\n"
     ]
    }
   ],
   "source": [
    "for letter in 'Socratica':\n",
    "    print(letter)"
   ]
  },
  {
   "cell_type": "code",
   "execution_count": 4,
   "metadata": {},
   "outputs": [
    {
     "name": "stdout",
     "output_type": "stream",
     "text": [
      "66\n",
      "105\n",
      "110\n",
      "97\n",
      "114\n",
      "121\n"
     ]
    }
   ],
   "source": [
    "for byte in b'Binary':\n",
    "    print(byte)"
   ]
  },
  {
   "cell_type": "code",
   "execution_count": 5,
   "metadata": {},
   "outputs": [
    {
     "ename": "TypeError",
     "evalue": "'int' object is not iterable",
     "output_type": "error",
     "traceback": [
      "\u001b[0;31m---------------------------------------------------------------------------\u001b[0m",
      "\u001b[0;31mTypeError\u001b[0m                                 Traceback (most recent call last)",
      "\u001b[0;32m<ipython-input-5-d14383db049f>\u001b[0m in \u001b[0;36m<module>\u001b[0;34m\u001b[0m\n\u001b[0;32m----> 1\u001b[0;31m \u001b[0;32mfor\u001b[0m \u001b[0mdigit\u001b[0m \u001b[0;32min\u001b[0m \u001b[0;36m299792458\u001b[0m\u001b[0;34m:\u001b[0m\u001b[0;34m\u001b[0m\u001b[0;34m\u001b[0m\u001b[0m\n\u001b[0m\u001b[1;32m      2\u001b[0m     \u001b[0mprint\u001b[0m\u001b[0;34m(\u001b[0m\u001b[0mdigit\u001b[0m\u001b[0;34m)\u001b[0m\u001b[0;34m\u001b[0m\u001b[0;34m\u001b[0m\u001b[0m\n",
      "\u001b[0;31mTypeError\u001b[0m: 'int' object is not iterable"
     ]
    }
   ],
   "source": [
    "for digit in 299792458:\n",
    "    print(digit)"
   ]
  },
  {
   "cell_type": "code",
   "execution_count": 6,
   "metadata": {},
   "outputs": [
    {
     "name": "stdout",
     "output_type": "stream",
     "text": [
      "2\n",
      "9\n",
      "9\n",
      "7\n",
      "9\n",
      "2\n",
      "4\n",
      "5\n",
      "8\n"
     ]
    }
   ],
   "source": [
    "c = 299792458\n",
    "digits = [int(d) for d in str(c)]\n",
    "\n",
    "for digit in digits:\n",
    "    print(digit)"
   ]
  },
  {
   "cell_type": "code",
   "execution_count": 7,
   "metadata": {},
   "outputs": [
    {
     "data": {
      "text/plain": [
       "tuple_iterator"
      ]
     },
     "execution_count": 7,
     "metadata": {},
     "output_type": "execute_result"
    }
   ],
   "source": [
    "usernames = ('Rainer', 'Alfons', 'Flatsheep')\n",
    "looper1 = usernames.__iter__()\n",
    "type(looper1)"
   ]
  },
  {
   "cell_type": "code",
   "execution_count": 8,
   "metadata": {},
   "outputs": [
    {
     "data": {
      "text/plain": [
       "'Rainer'"
      ]
     },
     "execution_count": 8,
     "metadata": {},
     "output_type": "execute_result"
    }
   ],
   "source": [
    "looper1.__next__()"
   ]
  },
  {
   "cell_type": "code",
   "execution_count": 9,
   "metadata": {},
   "outputs": [
    {
     "data": {
      "text/plain": [
       "'Alfons'"
      ]
     },
     "execution_count": 9,
     "metadata": {},
     "output_type": "execute_result"
    }
   ],
   "source": [
    "looper1.__next__()"
   ]
  },
  {
   "cell_type": "code",
   "execution_count": 10,
   "metadata": {},
   "outputs": [
    {
     "data": {
      "text/plain": [
       "'Flatsheep'"
      ]
     },
     "execution_count": 10,
     "metadata": {},
     "output_type": "execute_result"
    }
   ],
   "source": [
    "looper1.__next__()"
   ]
  },
  {
   "cell_type": "code",
   "execution_count": 11,
   "metadata": {},
   "outputs": [
    {
     "ename": "StopIteration",
     "evalue": "",
     "output_type": "error",
     "traceback": [
      "\u001b[0;31m---------------------------------------------------------------------------\u001b[0m",
      "\u001b[0;31mStopIteration\u001b[0m                             Traceback (most recent call last)",
      "\u001b[0;32m<ipython-input-11-27baa47aadbd>\u001b[0m in \u001b[0;36m<module>\u001b[0;34m\u001b[0m\n\u001b[0;32m----> 1\u001b[0;31m \u001b[0mlooper1\u001b[0m\u001b[0;34m.\u001b[0m\u001b[0m__next__\u001b[0m\u001b[0;34m(\u001b[0m\u001b[0;34m)\u001b[0m\u001b[0;34m\u001b[0m\u001b[0;34m\u001b[0m\u001b[0m\n\u001b[0m",
      "\u001b[0;31mStopIteration\u001b[0m: "
     ]
    }
   ],
   "source": [
    "looper1.__next__()"
   ]
  },
  {
   "cell_type": "code",
   "execution_count": 13,
   "metadata": {},
   "outputs": [
    {
     "data": {
      "text/plain": [
       "'Rainer'"
      ]
     },
     "execution_count": 13,
     "metadata": {},
     "output_type": "execute_result"
    }
   ],
   "source": [
    "looper2 = iter(usernames)\n",
    "next(looper2)"
   ]
  },
  {
   "cell_type": "code",
   "execution_count": 14,
   "metadata": {},
   "outputs": [
    {
     "data": {
      "text/plain": [
       "'Alfons'"
      ]
     },
     "execution_count": 14,
     "metadata": {},
     "output_type": "execute_result"
    }
   ],
   "source": [
    "next(looper2)"
   ]
  },
  {
   "cell_type": "code",
   "execution_count": 15,
   "metadata": {},
   "outputs": [
    {
     "data": {
      "text/plain": [
       "'Flatsheep'"
      ]
     },
     "execution_count": 15,
     "metadata": {},
     "output_type": "execute_result"
    }
   ],
   "source": [
    "next(looper2)"
   ]
  },
  {
   "cell_type": "code",
   "execution_count": 16,
   "metadata": {},
   "outputs": [
    {
     "ename": "StopIteration",
     "evalue": "",
     "output_type": "error",
     "traceback": [
      "\u001b[0;31m---------------------------------------------------------------------------\u001b[0m",
      "\u001b[0;31mStopIteration\u001b[0m                             Traceback (most recent call last)",
      "\u001b[0;32m<ipython-input-16-76970af3d3d2>\u001b[0m in \u001b[0;36m<module>\u001b[0;34m\u001b[0m\n\u001b[0;32m----> 1\u001b[0;31m \u001b[0mnext\u001b[0m\u001b[0;34m(\u001b[0m\u001b[0mlooper2\u001b[0m\u001b[0;34m)\u001b[0m\u001b[0;34m\u001b[0m\u001b[0;34m\u001b[0m\u001b[0m\n\u001b[0m",
      "\u001b[0;31mStopIteration\u001b[0m: "
     ]
    }
   ],
   "source": [
    "next(looper2)"
   ]
  },
  {
   "cell_type": "code",
   "execution_count": 17,
   "metadata": {},
   "outputs": [
    {
     "name": "stdout",
     "output_type": "stream",
     "text": [
      "laust\n",
      "LeoMoon\n",
      "JennaSys\n",
      "dgletts\n"
     ]
    }
   ],
   "source": [
    "users = ['laust', 'LeoMoon', 'JennaSys', 'dgletts']\n",
    "\n",
    "for user in users:\n",
    "    print(user)"
   ]
  },
  {
   "cell_type": "code",
   "execution_count": 18,
   "metadata": {},
   "outputs": [
    {
     "name": "stdout",
     "output_type": "stream",
     "text": [
      "laust\n",
      "LeoMoon\n",
      "JennaSys\n",
      "dgletts\n"
     ]
    }
   ],
   "source": [
    "looper = iter(users)\n",
    "while True:\n",
    "    try:\n",
    "        user = next(looper)\n",
    "        print(user)\n",
    "    except StopIteration:\n",
    "        break"
   ]
  },
  {
   "cell_type": "code",
   "execution_count": 19,
   "metadata": {},
   "outputs": [
    {
     "name": "stdout",
     "output_type": "stream",
     "text": [
      "ALPHA 15\n",
      "BETA 23\n",
      "GAMMA 29\n"
     ]
    }
   ],
   "source": [
    "class portfolio:\n",
    "    def __init__(self):\n",
    "        self.holdings = {}  # Key = ticker, Value = number of shares\n",
    "\n",
    "    def buy(self, ticker, shares):\n",
    "        self.holdings[ticker] = self.holdings.get(ticker, 0) + shares\n",
    "    \n",
    "    def sell(self, ticker, shares):\n",
    "        self.holdings[ticker] = self.holdings.get(ticker, 0) - shares\n",
    "    \n",
    "    def __iter__(self):\n",
    "        return iter(self.holdings.items())\n",
    "\n",
    "\n",
    "p = portfolio()\n",
    "p.buy('ALPHA', 15)\n",
    "p.buy('BETA', 23)\n",
    "p.buy('GAMMA', 9)\n",
    "p.buy('GAMMA', 20)\n",
    "\n",
    "for (ticker, shares) in p:\n",
    "    print(ticker, shares)"
   ]
  },
  {
   "cell_type": "code",
   "execution_count": 23,
   "metadata": {},
   "outputs": [
    {
     "name": "stdout",
     "output_type": "stream",
     "text": [
      "['2', '3', '4', '5', '6', '7', '8', '9', '10', 'J', 'Q', 'K', 'A']\n"
     ]
    }
   ],
   "source": [
    "import itertools\n",
    "\n",
    "ranks = [x for x in range(2, 11)] + ['J', 'Q', 'K', 'A']\n",
    "ranks = [str(rank) for rank in ranks]\n",
    "\n",
    "print(ranks)"
   ]
  },
  {
   "cell_type": "code",
   "execution_count": 24,
   "metadata": {},
   "outputs": [
    {
     "name": "stdout",
     "output_type": "stream",
     "text": [
      "1 ('2', 'Hearts')\n",
      "2 ('2', 'Clubs')\n",
      "3 ('2', 'Diamonds')\n",
      "4 ('2', 'Spades')\n",
      "5 ('3', 'Hearts')\n",
      "6 ('3', 'Clubs')\n",
      "7 ('3', 'Diamonds')\n",
      "8 ('3', 'Spades')\n",
      "9 ('4', 'Hearts')\n",
      "10 ('4', 'Clubs')\n",
      "11 ('4', 'Diamonds')\n",
      "12 ('4', 'Spades')\n",
      "13 ('5', 'Hearts')\n",
      "14 ('5', 'Clubs')\n",
      "15 ('5', 'Diamonds')\n",
      "16 ('5', 'Spades')\n",
      "17 ('6', 'Hearts')\n",
      "18 ('6', 'Clubs')\n",
      "19 ('6', 'Diamonds')\n",
      "20 ('6', 'Spades')\n",
      "21 ('7', 'Hearts')\n",
      "22 ('7', 'Clubs')\n",
      "23 ('7', 'Diamonds')\n",
      "24 ('7', 'Spades')\n",
      "25 ('8', 'Hearts')\n",
      "26 ('8', 'Clubs')\n",
      "27 ('8', 'Diamonds')\n",
      "28 ('8', 'Spades')\n",
      "29 ('9', 'Hearts')\n",
      "30 ('9', 'Clubs')\n",
      "31 ('9', 'Diamonds')\n",
      "32 ('9', 'Spades')\n",
      "33 ('10', 'Hearts')\n",
      "34 ('10', 'Clubs')\n",
      "35 ('10', 'Diamonds')\n",
      "36 ('10', 'Spades')\n",
      "37 ('J', 'Hearts')\n",
      "38 ('J', 'Clubs')\n",
      "39 ('J', 'Diamonds')\n",
      "40 ('J', 'Spades')\n",
      "41 ('Q', 'Hearts')\n",
      "42 ('Q', 'Clubs')\n",
      "43 ('Q', 'Diamonds')\n",
      "44 ('Q', 'Spades')\n",
      "45 ('K', 'Hearts')\n",
      "46 ('K', 'Clubs')\n",
      "47 ('K', 'Diamonds')\n",
      "48 ('K', 'Spades')\n",
      "49 ('A', 'Hearts')\n",
      "50 ('A', 'Clubs')\n",
      "51 ('A', 'Diamonds')\n",
      "52 ('A', 'Spades')\n"
     ]
    }
   ],
   "source": [
    "suits = ['Hearts', 'Clubs', 'Diamonds', 'Spades']\n",
    "\n",
    "deck = [card for card in itertools.product(ranks, suits)]\n",
    "\n",
    "for (index, card) in enumerate(deck):\n",
    "    print(1 + index, card)"
   ]
  },
  {
   "cell_type": "code",
   "execution_count": 25,
   "metadata": {},
   "outputs": [
    {
     "name": "stdout",
     "output_type": "stream",
     "text": [
      "The number of 5-card poker hands is 2598960.\n"
     ]
    }
   ],
   "source": [
    "hands = [hand for hand in itertools.combinations(deck ,5)]\n",
    "\n",
    "print(f\"The number of 5-card poker hands is {len(hands)}.\")"
   ]
  }
 ],
 "metadata": {
  "interpreter": {
   "hash": "40d3a090f54c6569ab1632332b64b2c03c39dcf918b08424e98f38b5ae0af88f"
  },
  "kernelspec": {
   "display_name": "Python 3.7.9 64-bit ('base': conda)",
   "name": "python3"
  },
  "language_info": {
   "codemirror_mode": {
    "name": "ipython",
    "version": 3
   },
   "file_extension": ".py",
   "mimetype": "text/x-python",
   "name": "python",
   "nbconvert_exporter": "python",
   "pygments_lexer": "ipython3",
   "version": "3.7.9"
  },
  "orig_nbformat": 4
 },
 "nbformat": 4,
 "nbformat_minor": 2
}
