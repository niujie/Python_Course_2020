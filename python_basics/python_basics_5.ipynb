{
 "cells": [
  {
   "cell_type": "markdown",
   "metadata": {},
   "source": [
    "# Special Methods"
   ]
  },
  {
   "cell_type": "code",
   "execution_count": 1,
   "metadata": {},
   "outputs": [
    {
     "name": "stdout",
     "output_type": "stream",
     "text": [
      "['__class__', '__delattr__', '__dict__', '__dir__', '__doc__', '__eq__', '__format__', '__ge__', '__getattribute__', '__gt__', '__hash__', '__init__', '__init_subclass__', '__le__', '__lt__', '__module__', '__ne__', '__new__', '__reduce__', '__reduce_ex__', '__repr__', '__setattr__', '__sizeof__', '__str__', '__subclasshook__', '__weakref__']\n"
     ]
    }
   ],
   "source": [
    "class Snowflake:\n",
    "    pass\n",
    "\n",
    "flake = Snowflake()\n",
    "\n",
    "print(dir(flake))"
   ]
  },
  {
   "cell_type": "code",
   "execution_count": 2,
   "metadata": {},
   "outputs": [
    {
     "name": "stdout",
     "output_type": "stream",
     "text": [
      "{}\n"
     ]
    }
   ],
   "source": [
    "class Martian:\n",
    "    pass\n",
    "\n",
    "m1 = Martian()\n",
    "print(m1.__dict__)"
   ]
  },
  {
   "cell_type": "code",
   "execution_count": 3,
   "metadata": {},
   "outputs": [
    {
     "name": "stdout",
     "output_type": "stream",
     "text": [
      "{'first_name': 'Owen', 'last_name': 'Phelps'}\n"
     ]
    }
   ],
   "source": [
    "m1.first_name = 'Owen'\n",
    "m1.last_name = 'Phelps'\n",
    "print(m1.__dict__)"
   ]
  },
  {
   "cell_type": "code",
   "execution_count": 5,
   "metadata": {},
   "outputs": [
    {
     "name": "stdout",
     "output_type": "stream",
     "text": [
      "Someone who lives on Mars.\n"
     ]
    }
   ],
   "source": [
    "class Martian:\n",
    "    \"\"\"Someone who lives on Mars.\"\"\"\n",
    "\n",
    "    def __init__(self, fn, ln) -> None:\n",
    "        self.first_name = fn\n",
    "        self.last_name = ln\n",
    "\n",
    "print(Martian.__doc__)"
   ]
  },
  {
   "cell_type": "code",
   "execution_count": 6,
   "metadata": {},
   "outputs": [
    {
     "name": "stdout",
     "output_type": "stream",
     "text": [
      "{'first_name': 'Rob', 'last_name': 'Schenk'}\n"
     ]
    }
   ],
   "source": [
    "m1 = Martian('Rob', 'Schenk')\n",
    "print(m1.__dict__)"
   ]
  },
  {
   "cell_type": "code",
   "execution_count": 7,
   "metadata": {},
   "outputs": [
    {
     "name": "stdout",
     "output_type": "stream",
     "text": [
      "{'first_name': 'Rob', 'last_name': 'Schenk', 'arrival_date': '2037-12-15'}\n"
     ]
    }
   ],
   "source": [
    "m1.arrival_date = '2037-12-15'\n",
    "print(m1.__dict__)"
   ]
  },
  {
   "cell_type": "code",
   "execution_count": 10,
   "metadata": {},
   "outputs": [
    {
     "name": "stdout",
     "output_type": "stream",
     "text": [
      ">>> You set first_name = Klaus\n",
      ">>> You set last_name = Iserlohn\n",
      "{}\n"
     ]
    }
   ],
   "source": [
    "class Martian:\n",
    "    \"\"\"Someone who lives on Mars.\"\"\"\n",
    "\n",
    "    def __init__(self, fn, ln) -> None:\n",
    "        self.first_name = fn\n",
    "        self.last_name = ln\n",
    "    \n",
    "\n",
    "    def __setattr__(self, name: str, value) -> None:\n",
    "        print(f\">>> You set {name} = {value}\")\n",
    "\n",
    "m = Martian('Klaus', 'Iserlohn')\n",
    "print(m.__dict__)"
   ]
  },
  {
   "cell_type": "code",
   "execution_count": 15,
   "metadata": {},
   "outputs": [
    {
     "name": "stdout",
     "output_type": "stream",
     "text": [
      ">>> You set first_name = Klaus\n",
      ">>> You set last_name = Iserlohn\n",
      "{'first_name': 'Klaus', 'last_name': 'Iserlohn'}\n"
     ]
    }
   ],
   "source": [
    "class Martian:\n",
    "    \"\"\"Someone who lives on Mars.\"\"\"\n",
    "\n",
    "    def __init__(self, fn, ln) -> None:\n",
    "        self.first_name = fn\n",
    "        self.last_name = ln\n",
    "\n",
    "    def __setattr__(self, name: str, value) -> None:\n",
    "        print(f\">>> You set {name} = {value}\")\n",
    "        self.__dict__[name] = value\n",
    "\n",
    "\n",
    "m = Martian('Klaus', 'Iserlohn')\n",
    "print(m.__dict__)"
   ]
  },
  {
   "cell_type": "code",
   "execution_count": 22,
   "metadata": {},
   "outputs": [
    {
     "name": "stdout",
     "output_type": "stream",
     "text": [
      ">>> You set first_name = Pierre\n",
      ">>> You set last_name = Aberg\n",
      "First name = Pierre\n",
      "Last name = Aberg\n",
      ">>> Get the 'full_name' attribute\n",
      "Pierre Aberg\n",
      "{'first_name': 'Pierre', 'last_name': 'Aberg'}\n"
     ]
    }
   ],
   "source": [
    "class Martian:\n",
    "    \"\"\"Someone who lives on Mars.\"\"\"\n",
    "\n",
    "    def __init__(self, fn, ln) -> None:\n",
    "        self.first_name = fn\n",
    "        self.last_name = ln\n",
    "\n",
    "    def __setattr__(self, name: str, value) -> None:\n",
    "        print(f\">>> You set {name} = {value}\")\n",
    "        self.__dict__[name] = value\n",
    "\n",
    "    def __getattr__(self, name: str) -> None:\n",
    "        print(f\">>> Get the '{name}' attribute\")\n",
    "        if name == 'full_name':\n",
    "            return f\"{self.first_name} {self.last_name}\"\n",
    "        else:\n",
    "            raise AttributeError(f\"No attribute named {name}\")\n",
    "\n",
    "\n",
    "m = Martian('Pierre', 'Aberg')\n",
    "print(f\"First name = {m.first_name}\")\n",
    "print(f\"Last name = {m.last_name}\")\n",
    "print(m.full_name)\n",
    "# print(m.martian_name)\n",
    "print(m.__dict__)"
   ]
  },
  {
   "cell_type": "code",
   "execution_count": 25,
   "metadata": {},
   "outputs": [
    {
     "name": "stdout",
     "output_type": "stream",
     "text": [
      "<__main__.Martian object at 0x7f859807ea50>\n",
      "<__main__.Martian object at 0x7f859807ea50>\n",
      "140211758033488\n"
     ]
    }
   ],
   "source": [
    "class Martian:\n",
    "    \"\"\"Someone who lives on Mars.\"\"\"\n",
    "\n",
    "    def __init__(self, fn, ln) -> None:\n",
    "        self.first_name = fn\n",
    "        self.last_name = ln\n",
    "    \n",
    "    def __setattr__(self, name: str, value) -> None:\n",
    "        self.__dict__[name] = value\n",
    "\n",
    "m1 = Martian(\"Prayash\", \"Mohapatra\")\n",
    "print(m1)\n",
    "print(m1.__str__())\n",
    "print(id(m1))"
   ]
  },
  {
   "cell_type": "code",
   "execution_count": 26,
   "metadata": {},
   "outputs": [
    {
     "data": {
      "text/plain": [
       "True"
      ]
     },
     "execution_count": 26,
     "metadata": {},
     "output_type": "execute_result"
    }
   ],
   "source": [
    "0x7f859807ea50 == 140211758033488"
   ]
  },
  {
   "cell_type": "code",
   "execution_count": 27,
   "metadata": {},
   "outputs": [
    {
     "name": "stdout",
     "output_type": "stream",
     "text": [
      "Rod Morley\n"
     ]
    }
   ],
   "source": [
    "class Martian:\n",
    "    \"\"\"Someone who lives on Mars.\"\"\"\n",
    "\n",
    "    def __init__(self, fn, ln) -> None:\n",
    "        self.first_name = fn\n",
    "        self.last_name = ln\n",
    "\n",
    "    def __setattr__(self, name: str, value) -> None:\n",
    "        self.__dict__[name] = value\n",
    "\n",
    "    def __str__(self) -> str:\n",
    "        return f\"{self.first_name} {self.last_name}\"\n",
    "\n",
    "m = Martian(\"Rod\", \"Morley\")\n",
    "print(m)"
   ]
  },
  {
   "cell_type": "code",
   "execution_count": 29,
   "metadata": {},
   "outputs": [
    {
     "name": "stdout",
     "output_type": "stream",
     "text": [
      ">>> Comparing Len Klein with Cyrille Collin\n",
      ">>> Comparing Matthias Stein with Len Klein\n",
      ">>> Comparing Mike Lenox with Matthias Stein\n",
      ">>> Comparing Mike Lenox with Len Klein\n",
      ">>> Comparing Mike Lenox with Matthias Stein\n",
      ">>> Comparing Bob Hillier with Mike Lenox\n",
      ">>> Comparing Bob Hillier with Len Klein\n",
      ">>> Comparing Bob Hillier with Cyrille Collin\n",
      ">>> Comparing Olwyn Meek with Len Klein\n",
      ">>> Comparing Olwyn Meek with Matthias Stein\n",
      ">>> Comparing Olwyn Meek with Mike Lenox\n",
      ">>> Comparing Andy Taylor with Mike Lenox\n",
      ">>> Comparing Andy Taylor with Matthias Stein\n",
      ">>> Comparing Halbert Stone with Mike Lenox\n",
      ">>> Comparing Halbert Stone with Matthias Stein\n",
      ">>> Comparing Halbert Stone with Andy Taylor\n",
      ">>> Comparing Marvin Meek with Olwyn Meek\n",
      ">>> Comparing Marvin Meek with Len Klein\n",
      ">>> Comparing Marvin Meek with Mike Lenox\n",
      "Cyrille Collin\n",
      "Bob Hillier\n",
      "Len Klein\n",
      "Mike Lenox\n",
      "Marvin Meek\n",
      "Olwyn Meek\n",
      "Matthias Stein\n",
      "Halbert Stone\n",
      "Andy Taylor\n"
     ]
    }
   ],
   "source": [
    "class Martian:\n",
    "    \"\"\"Someone who lives on Mars.\"\"\"\n",
    "\n",
    "    def __init__(self, fn, ln) -> None:\n",
    "        self.first_name = fn\n",
    "        self.last_name = ln\n",
    "\n",
    "    def __setattr__(self, name: str, value) -> None:\n",
    "        self.__dict__[name] = value\n",
    "\n",
    "    def __str__(self) -> str:\n",
    "        return f\"{self.first_name} {self.last_name}\"\n",
    "    \n",
    "    def __lt__(self, other: Martian):\n",
    "        print(f\">>> Comparing {self} with {other}\")\n",
    "        if self.last_name != other.last_name:\n",
    "            return (self.last_name < other.last_name)\n",
    "        else:\n",
    "            return (self.first_name < other.first_name)\n",
    "\n",
    "m1 = Martian(\"Cyrille\", \"Collin\")\n",
    "m2 = Martian(\"Len\", \"Klein\")\n",
    "m3 = Martian(\"Matthias\", \"Stein\")\n",
    "m4 = Martian(\"Mike\", \"Lenox\")\n",
    "m5 = Martian(\"Bob\", \"Hillier\")\n",
    "m6 = Martian(\"Olwyn\", \"Meek\")\n",
    "m7 = Martian(\"Andy\", \"Taylor\")\n",
    "m8 = Martian(\"Halbert\", \"Stone\")\n",
    "m9 = Martian(\"Marvin\", \"Meek\")\n",
    "\n",
    "martians = [m1, m2, m3, m4, m5, m6, m7, m8, m9]\n",
    "martians.sort()\n",
    "for m in martians:\n",
    "    print(m)"
   ]
  }
 ],
 "metadata": {
  "interpreter": {
   "hash": "40d3a090f54c6569ab1632332b64b2c03c39dcf918b08424e98f38b5ae0af88f"
  },
  "kernelspec": {
   "display_name": "Python 3.7.9 64-bit ('base': conda)",
   "name": "python3"
  },
  "language_info": {
   "codemirror_mode": {
    "name": "ipython",
    "version": 3
   },
   "file_extension": ".py",
   "mimetype": "text/x-python",
   "name": "python",
   "nbconvert_exporter": "python",
   "pygments_lexer": "ipython3",
   "version": "3.7.9"
  },
  "orig_nbformat": 4
 },
 "nbformat": 4,
 "nbformat_minor": 2
}
