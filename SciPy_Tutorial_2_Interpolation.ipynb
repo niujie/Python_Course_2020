{
 "cells": [
  {
   "cell_type": "markdown",
   "metadata": {},
   "source": [
    "# SciPy Tutorial 2 - Interpolation (<font color=#0099ff>scipy.interpolate</font>) "
   ]
  },
  {
   "cell_type": "markdown",
   "metadata": {},
   "source": [
    "## 1-D interpolation (<font color=#0099ff>interp1d</font>)"
   ]
  },
  {
   "cell_type": "code",
   "execution_count": null,
   "metadata": {},
   "outputs": [],
   "source": [
    "from scipy.interpolate import interp1d\n",
    "import numpy as np\n",
    "\n",
    "x = np.linspace(0, 10, num=11, endpoint=True)\n",
    "y = np.cos(-x**2/9.0)\n",
    "f = interp1d(x, y)\n",
    "f2 = interp1d(x, y, kind='cubic')\n",
    "\n",
    "xnew = np.linspace(0, 10, num=41, endpoint=True)\n",
    "import matplotlib.pyplot as plt\n",
    "fig = plt.figure(figsize=(8, 5), dpi=80)\n",
    "plt.plot(x, y, 'o', xnew, f(xnew), '-', xnew, f2(xnew), '--')\n",
    "plt.legend(['data', 'linear', 'cubic'], loc='best')\n",
    "plt.show()"
   ]
  },
  {
   "cell_type": "code",
   "execution_count": null,
   "metadata": {},
   "outputs": [],
   "source": [
    "x = np.linspace(0, 10, num=11, endpoint=True)\n",
    "y = np.cos(-x**2/9.0)\n",
    "f1 = interp1d(x, y, kind='nearest')\n",
    "f2 = interp1d(x, y, kind='previous')\n",
    "f3 = interp1d(x, y, kind='next')\n",
    "\n",
    "xnew = np.linspace(0, 10, num=1001, endpoint=True)\n",
    "fig = plt.figure(figsize=(8, 5), dpi=80)\n",
    "plt.plot(x, y, 'o')\n",
    "plt.plot(xnew, f1(xnew), '-', xnew, f2(xnew), '--', xnew, f3(xnew), ':')\n",
    "plt.legend(['data', 'nearest', 'previous', 'next'], loc='best')\n",
    "plt.show()"
   ]
  },
  {
   "cell_type": "markdown",
   "metadata": {},
   "source": [
    "## Multivariate data interpolaton (<font color=#0099ff>griddata</font>)"
   ]
  },
  {
   "cell_type": "code",
   "execution_count": null,
   "metadata": {},
   "outputs": [],
   "source": [
    "def func(x, y):\n",
    "    return x*(1-x)*np.cos(4*np.pi*x) * np.sin(4*np.pi*y**2)**2\n",
    "\n",
    "grid_x, grid_y = np.mgrid[0:1:100j, 0:1:200j]\n",
    "\n",
    "points = np.random.rand(1000, 2)\n",
    "values = func(points[:,0], points[:,1])\n",
    "\n",
    "from scipy.interpolate import griddata\n",
    "grid_z0 = griddata(points, values, (grid_x, grid_y), method='nearest')\n",
    "grid_z1 = griddata(points, values, (grid_x, grid_y), method='linear')\n",
    "grid_z2 = griddata(points, values, (grid_x, grid_y), method='cubic')\n",
    "\n",
    "fig = plt.figure(figsize=(12,8), dpi=120)\n",
    "plt.subplot(221)\n",
    "plt.imshow(func(grid_x, grid_y).T, extent=(0,1,0,1), origin='lower')\n",
    "plt.plot(points[:,0], points[:,1], 'k.', ms=1)\n",
    "plt.title('Original')\n",
    "plt.subplot(222)\n",
    "plt.imshow(grid_z0.T, extent=(0,1,0,1), origin='lower')\n",
    "plt.title('Nearest')\n",
    "plt.subplot(223)\n",
    "plt.imshow(grid_z1.T, extent=(0,1,0,1), origin='lower')\n",
    "plt.title('Linear')\n",
    "plt.subplot(224)\n",
    "plt.imshow(grid_z2.T, extent=(0,1,0,1), origin='lower')\n",
    "plt.title('Cubic')\n",
    "plt.gcf().set_size_inches(6, 6)\n",
    "plt.show()"
   ]
  },
  {
   "cell_type": "markdown",
   "metadata": {},
   "source": [
    "## Spline Interpolation"
   ]
  },
  {
   "cell_type": "markdown",
   "metadata": {},
   "source": [
    "### Spline interpolation in 1-D: Procedural (<font color=#0099ff>interpolate.splXXX</font>)"
   ]
  },
  {
   "cell_type": "markdown",
   "metadata": {},
   "source": [
    "#### Cubic-spline"
   ]
  },
  {
   "cell_type": "code",
   "execution_count": null,
   "metadata": {},
   "outputs": [],
   "source": [
    "from scipy import interpolate\n",
    "\n",
    "x = np.arange(0, 2*np.pi+np.pi/4, 2*np.pi/8)\n",
    "y = np.sin(x)\n",
    "tck = interpolate.splrep(x, y, s=0)\n",
    "xnew = np.arange(0, 2*np.pi, np.pi/50)\n",
    "ynew = interpolate.splev(xnew, tck, der=0)\n",
    "\n",
    "plt.figure(figsize=(8, 5), dpi=80)\n",
    "plt.plot(x, y, 'x', xnew, ynew, xnew, np.sin(xnew), x, y, 'b')\n",
    "plt.legend(['Linear', 'Cubic Spline', 'True'])\n",
    "plt.axis([-0.05, 6.33, -1.05, 1.05])\n",
    "plt.title('Cubic-spline interpolation')\n",
    "plt.show()"
   ]
  },
  {
   "cell_type": "markdown",
   "metadata": {},
   "source": [
    "#### Derivative of spline"
   ]
  },
  {
   "cell_type": "code",
   "execution_count": null,
   "metadata": {},
   "outputs": [],
   "source": [
    "yder = interpolate.splev(xnew, tck, der=1)\n",
    "plt.figure(figsize=(8, 5), dpi=80)\n",
    "plt.plot(xnew, yder, xnew, np.cos(xnew),'--')\n",
    "plt.legend(['Cubic Spline', 'True'])\n",
    "plt.axis([-0.05, 6.33, -1.05, 1.05])\n",
    "plt.title('Derivative estimation from spline')\n",
    "plt.show()"
   ]
  },
  {
   "cell_type": "markdown",
   "metadata": {},
   "source": [
    "#### Integral of spline"
   ]
  },
  {
   "cell_type": "code",
   "execution_count": null,
   "metadata": {},
   "outputs": [],
   "source": [
    "def integ(x, tck, constant=-1):\n",
    "    x = np.atleast_1d(x)\n",
    "    out = np.zeros(x.shape, dtype=x.dtype)\n",
    "    for n in range(len(out)):\n",
    "        out[n] = interpolate.splint(0, x[n], tck)\n",
    "    out += constant\n",
    "    return out\n",
    "\n",
    "yint = integ(xnew, tck)\n",
    "plt.figure(figsize=(8, 5), dpi=80)\n",
    "plt.plot(xnew, yint, xnew, -np.cos(xnew), '--')\n",
    "plt.legend(['Cubic Spline', 'True'])\n",
    "plt.axis([-0.05, 6.33, -1.05, 1.05])\n",
    "plt.title('Integral estimation from spline')\n",
    "plt.show()"
   ]
  },
  {
   "cell_type": "markdown",
   "metadata": {},
   "source": [
    "#### Roots of spline"
   ]
  },
  {
   "cell_type": "code",
   "execution_count": null,
   "metadata": {},
   "outputs": [],
   "source": [
    "interpolate.sproot(tck)"
   ]
  },
  {
   "cell_type": "code",
   "execution_count": null,
   "metadata": {},
   "outputs": [],
   "source": [
    "x = np.linspace(-np.pi/4, 2.*np.pi + np.pi/4, 21)\n",
    "y = np.sin(x)\n",
    "tck = interpolate.splrep(x, y, s=0)\n",
    "interpolate.sproot(tck)"
   ]
  },
  {
   "cell_type": "markdown",
   "metadata": {},
   "source": [
    "#### Parametric spline"
   ]
  },
  {
   "cell_type": "code",
   "execution_count": null,
   "metadata": {},
   "outputs": [],
   "source": [
    "t = np.arange(0, 1.1, .1)\n",
    "x = np.sin(2*np.pi*t)\n",
    "y = np.cos(2*np.pi*t)\n",
    "tck, u = interpolate.splprep([x, y], s=0)\n",
    "unew = np.arange(0, 1.01, 0.01)\n",
    "out = interpolate.splev(unew, tck)\n",
    "plt.figure(figsize=(8, 5), dpi=80)\n",
    "plt.plot(x, y, 'x', out[0], out[1], np.sin(2*np.pi*unew), np.cos(2*np.pi*unew), x, y, 'b')\n",
    "plt.legend(['Linear', 'Cubic Spline', 'True'])\n",
    "plt.axis([-1.05, 1.05, -1.05, 1.05])\n",
    "plt.title('Spline of parametrically-defined curve')\n",
    "plt.show()"
   ]
  },
  {
   "cell_type": "markdown",
   "metadata": {},
   "source": [
    "### Spline interpolation in 1-D: Object-oriented (<font color=#0099ff>UnivariateSpline</font>)"
   ]
  },
  {
   "cell_type": "markdown",
   "metadata": {},
   "source": [
    "#### InterpolatedUnivariateSpline"
   ]
  },
  {
   "cell_type": "code",
   "execution_count": null,
   "metadata": {},
   "outputs": [],
   "source": [
    "x = np.arange(0, 2*np.pi+np.pi/4, 2*np.pi/8)\n",
    "y = np.sin(x)\n",
    "s = interpolate.InterpolatedUnivariateSpline(x, y)\n",
    "xnew = np.arange(0, 2*np.pi, np.pi/50)\n",
    "ynew = s(xnew)\n",
    "\n",
    "plt.figure(figsize=(8,5), dpi=80)\n",
    "plt.plot(x, y, 'x', xnew, ynew, xnew, np.sin(xnew), x, y, 'b')\n",
    "plt.legend(['Linear', 'InterpolatedUnivariateSpline', 'True'])\n",
    "plt.axis([-0.05, 6.33, -1.05, 1.05])\n",
    "plt.title('InterpolatedUnivariateSpline')\n",
    "plt.show()"
   ]
  },
  {
   "cell_type": "markdown",
   "metadata": {},
   "source": [
    "#### LSQUnivarateSpline with non-uniform knots"
   ]
  },
  {
   "cell_type": "code",
   "execution_count": null,
   "metadata": {},
   "outputs": [],
   "source": [
    "t = [np.pi/2-.1, np.pi/2+.1, 3*np.pi/2-.1, 3*np.pi/2+.1]\n",
    "s = interpolate.LSQUnivariateSpline(x, y, t, k=2)\n",
    "ynew = s(xnew)\n",
    "\n",
    "plt.figure(figsize=(8,5), dpi=80)\n",
    "plt.plot(x, y, 'x', xnew, ynew, xnew, np.sin(xnew), x, y, 'b')\n",
    "plt.legend(['Linear', 'LSQUnivariateSpline', 'True'])\n",
    "plt.axis([-0.05, 6.33, -1.05, 1.05])\n",
    "plt.title('Spline with Specified Interior Knots')\n",
    "plt.show()"
   ]
  },
  {
   "cell_type": "markdown",
   "metadata": {},
   "source": [
    "### 2-D spline representation: Procedural (<font color=#0099ff>bisplrep</font>)"
   ]
  },
  {
   "cell_type": "code",
   "execution_count": null,
   "metadata": {},
   "outputs": [],
   "source": [
    "# Define function over a sparse 20x20 grid\n",
    "x, y = np.mgrid[-1:1:20j, -1:1:20j]\n",
    "z = (x+y) * np.exp(-6.0*(x*x+y*y))\n",
    "\n",
    "plt.figure(figsize=(8,5), dpi=80)\n",
    "plt.pcolor(x, y, z)\n",
    "plt.colorbar()\n",
    "plt.title(\"Sparsely sampled function.\")\n",
    "plt.show()"
   ]
  },
  {
   "cell_type": "code",
   "execution_count": null,
   "metadata": {},
   "outputs": [],
   "source": [
    "# Interpolate function over a new 70x70 grid\n",
    "xnew, ynew = np.mgrid[-1:1:70j, -1:1:70j]\n",
    "tck = interpolate.bisplrep(x, y, z, s=0)\n",
    "znew = interpolate.bisplev(xnew[:,0], ynew[0,:], tck)\n",
    "\n",
    "plt.figure(figsize=(8,5), dpi=80)\n",
    "plt.pcolor(xnew, ynew, znew)\n",
    "plt.colorbar()\n",
    "plt.title(\"Interpolated function.\")\n",
    "plt.show()"
   ]
  },
  {
   "cell_type": "markdown",
   "metadata": {},
   "source": [
    "## Using radial basis functions for smoothing/interpolation"
   ]
  },
  {
   "cell_type": "markdown",
   "metadata": {},
   "source": [
    "### 1D Example"
   ]
  },
  {
   "cell_type": "code",
   "execution_count": null,
   "metadata": {},
   "outputs": [],
   "source": [
    "from scipy.interpolate import Rbf, InterpolatedUnivariateSpline\n",
    "\n",
    "# setup data\n",
    "x = np.linspace(0, 10, 9)\n",
    "y = np.sin(x)\n",
    "xi = np.linspace(0, 10, 101)\n",
    "\n",
    "# use fitpack2 method\n",
    "ius = InterpolatedUnivariateSpline(x, y)\n",
    "yi = ius(xi)\n",
    "\n",
    "plt.subplot(2, 1, 1)\n",
    "plt.plot(x, y, 'bo')\n",
    "plt.plot(xi, yi, 'g')\n",
    "plt.plot(xi, np.sin(xi), 'r')\n",
    "plt.title('Interpolation using univariate spline')\n",
    "\n",
    "# use RBF method\n",
    "rbf = Rbf(x, y)\n",
    "fi = rbf(xi)\n",
    "\n",
    "plt.subplot(2, 1, 2)\n",
    "plt.plot(x, y, 'bo')\n",
    "plt.plot(xi, fi, 'g')\n",
    "plt.plot(xi, np.sin(xi), 'r')\n",
    "plt.title('Interpolation using RBF - multiquadrics')\n",
    "plt.show()"
   ]
  },
  {
   "cell_type": "markdown",
   "metadata": {},
   "source": [
    "### 2D Example"
   ]
  },
  {
   "cell_type": "code",
   "execution_count": null,
   "metadata": {},
   "outputs": [],
   "source": [
    "from matplotlib import cm\n",
    "\n",
    "# 2-d tests - setup scattered data\n",
    "x = np.random.rand(100)*4.0-2.0\n",
    "y = np.random.rand(100)*4.0-2.0\n",
    "z = x*np.exp(-x**2-y**2)\n",
    "ti = np.linspace(-2.0, 2.0, 100)\n",
    "XI, YI = np.meshgrid(ti, ti)\n",
    "\n",
    "# use RBF\n",
    "rbf = Rbf(x, y, z, epsilon=2)\n",
    "ZI = rbf(XI, YI)\n",
    "\n",
    "# plot the result\n",
    "plt.subplot(1, 1, 1)\n",
    "plt.pcolor(XI, YI, ZI, cmap=cm.jet)\n",
    "plt.scatter(x, y, 100, z, cmap=cm.jet)\n",
    "plt.title('RBF interpolation - multiquadrics')\n",
    "plt.xlim(-2, 2)\n",
    "plt.ylim(-2, 2)\n",
    "plt.colorbar()"
   ]
  }
 ],
 "metadata": {
  "kernelspec": {
   "display_name": "Python 3",
   "language": "python",
   "name": "python3"
  },
  "language_info": {
   "codemirror_mode": {
    "name": "ipython",
    "version": 3
   },
   "file_extension": ".py",
   "mimetype": "text/x-python",
   "name": "python",
   "nbconvert_exporter": "python",
   "pygments_lexer": "ipython3",
   "version": "3.7.4"
  }
 },
 "nbformat": 4,
 "nbformat_minor": 4
}
